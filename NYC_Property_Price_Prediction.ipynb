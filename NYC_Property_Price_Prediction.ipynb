{
  "nbformat": 4,
  "nbformat_minor": 0,
  "metadata": {
    "colab": {
      "name": "NYC Property Price Prediction.ipynb",
      "provenance": [],
      "collapsed_sections": []
    },
    "kernelspec": {
      "name": "python3",
      "display_name": "Python 3"
    },
    "language_info": {
      "name": "python"
    }
  },
  "cells": [
    {
      "cell_type": "markdown",
      "source": [
        "# NYC Properties price prediction "
      ],
      "metadata": {
        "id": "oKWhZWV7jwzX"
      }
    },
    {
      "cell_type": "markdown",
      "source": [
        "Dataset: [https://www.kaggle.com/new-york-city/nyc-property-sales](https://www.kaggle.com/new-york-city/nyc-property-sales)"
      ],
      "metadata": {
        "id": "6H9Doli9kB70"
      }
    },
    {
      "cell_type": "code",
      "source": [
        "import pandas as pd\n",
        "import numpy as np\n",
        "import matplotlib.pyplot as plt\n",
        "from sklearn.preprocessing import OrdinalEncoder\n",
        "from xgboost import XGBRegressor\n",
        "import seaborn as sns\n",
        "from sklearn.linear_model import LinearRegression"
      ],
      "metadata": {
        "id": "jRgBEsTDkqsn"
      },
      "execution_count": null,
      "outputs": []
    },
    {
      "cell_type": "code",
      "source": [
        "path = 'https://raw.githubusercontent.com/absiddik7/Datasets/main/nyc-rolling-sales.csv'\n",
        "dataset = pd.read_csv(path)\n",
        "dataset.head()"
      ],
      "metadata": {
        "id": "mHiQygrIlanF",
        "colab": {
          "base_uri": "https://localhost:8080/",
          "height": 629
        },
        "outputId": "923a50b3-1ccc-48c8-fd9b-83b6d5c8ad87"
      },
      "execution_count": null,
      "outputs": [
        {
          "output_type": "execute_result",
          "data": {
            "text/plain": [
              "   Unnamed: 0  BOROUGH   NEIGHBORHOOD  \\\n",
              "0           4        1  ALPHABET CITY   \n",
              "1           5        1  ALPHABET CITY   \n",
              "2           6        1  ALPHABET CITY   \n",
              "3           7        1  ALPHABET CITY   \n",
              "4           8        1  ALPHABET CITY   \n",
              "\n",
              "                       BUILDING CLASS CATEGORY TAX CLASS AT PRESENT  BLOCK  \\\n",
              "0  07 RENTALS - WALKUP APARTMENTS                                2A    392   \n",
              "1  07 RENTALS - WALKUP APARTMENTS                                 2    399   \n",
              "2  07 RENTALS - WALKUP APARTMENTS                                 2    399   \n",
              "3  07 RENTALS - WALKUP APARTMENTS                                2B    402   \n",
              "4  07 RENTALS - WALKUP APARTMENTS                                2A    404   \n",
              "\n",
              "   LOT EASE-MENT BUILDING CLASS AT PRESENT                 ADDRESS  ...  \\\n",
              "0    6                                  C2            153 AVENUE B  ...   \n",
              "1   26                                  C7   234 EAST 4TH   STREET  ...   \n",
              "2   39                                  C7   197 EAST 3RD   STREET  ...   \n",
              "3   21                                  C4     154 EAST 7TH STREET  ...   \n",
              "4   55                                  C2  301 EAST 10TH   STREET  ...   \n",
              "\n",
              "  RESIDENTIAL UNITS  COMMERCIAL UNITS  TOTAL UNITS  LAND SQUARE FEET  \\\n",
              "0                 5                 0            5              1633   \n",
              "1                28                 3           31              4616   \n",
              "2                16                 1           17              2212   \n",
              "3                10                 0           10              2272   \n",
              "4                 6                 0            6              2369   \n",
              "\n",
              "   GROSS SQUARE FEET YEAR BUILT TAX CLASS AT TIME OF SALE  \\\n",
              "0               6440       1900                         2   \n",
              "1              18690       1900                         2   \n",
              "2               7803       1900                         2   \n",
              "3               6794       1913                         2   \n",
              "4               4615       1900                         2   \n",
              "\n",
              "   BUILDING CLASS AT TIME OF SALE  SALE PRICE            SALE DATE  \n",
              "0                              C2     6625000  2017-07-19 00:00:00  \n",
              "1                              C7         -    2016-12-14 00:00:00  \n",
              "2                              C7         -    2016-12-09 00:00:00  \n",
              "3                              C4     3936272  2016-09-23 00:00:00  \n",
              "4                              C2     8000000  2016-11-17 00:00:00  \n",
              "\n",
              "[5 rows x 22 columns]"
            ],
            "text/html": [
              "\n",
              "  <div id=\"df-6c764fa3-259d-4fc8-8229-8425555cfc05\">\n",
              "    <div class=\"colab-df-container\">\n",
              "      <div>\n",
              "<style scoped>\n",
              "    .dataframe tbody tr th:only-of-type {\n",
              "        vertical-align: middle;\n",
              "    }\n",
              "\n",
              "    .dataframe tbody tr th {\n",
              "        vertical-align: top;\n",
              "    }\n",
              "\n",
              "    .dataframe thead th {\n",
              "        text-align: right;\n",
              "    }\n",
              "</style>\n",
              "<table border=\"1\" class=\"dataframe\">\n",
              "  <thead>\n",
              "    <tr style=\"text-align: right;\">\n",
              "      <th></th>\n",
              "      <th>Unnamed: 0</th>\n",
              "      <th>BOROUGH</th>\n",
              "      <th>NEIGHBORHOOD</th>\n",
              "      <th>BUILDING CLASS CATEGORY</th>\n",
              "      <th>TAX CLASS AT PRESENT</th>\n",
              "      <th>BLOCK</th>\n",
              "      <th>LOT</th>\n",
              "      <th>EASE-MENT</th>\n",
              "      <th>BUILDING CLASS AT PRESENT</th>\n",
              "      <th>ADDRESS</th>\n",
              "      <th>...</th>\n",
              "      <th>RESIDENTIAL UNITS</th>\n",
              "      <th>COMMERCIAL UNITS</th>\n",
              "      <th>TOTAL UNITS</th>\n",
              "      <th>LAND SQUARE FEET</th>\n",
              "      <th>GROSS SQUARE FEET</th>\n",
              "      <th>YEAR BUILT</th>\n",
              "      <th>TAX CLASS AT TIME OF SALE</th>\n",
              "      <th>BUILDING CLASS AT TIME OF SALE</th>\n",
              "      <th>SALE PRICE</th>\n",
              "      <th>SALE DATE</th>\n",
              "    </tr>\n",
              "  </thead>\n",
              "  <tbody>\n",
              "    <tr>\n",
              "      <th>0</th>\n",
              "      <td>4</td>\n",
              "      <td>1</td>\n",
              "      <td>ALPHABET CITY</td>\n",
              "      <td>07 RENTALS - WALKUP APARTMENTS</td>\n",
              "      <td>2A</td>\n",
              "      <td>392</td>\n",
              "      <td>6</td>\n",
              "      <td></td>\n",
              "      <td>C2</td>\n",
              "      <td>153 AVENUE B</td>\n",
              "      <td>...</td>\n",
              "      <td>5</td>\n",
              "      <td>0</td>\n",
              "      <td>5</td>\n",
              "      <td>1633</td>\n",
              "      <td>6440</td>\n",
              "      <td>1900</td>\n",
              "      <td>2</td>\n",
              "      <td>C2</td>\n",
              "      <td>6625000</td>\n",
              "      <td>2017-07-19 00:00:00</td>\n",
              "    </tr>\n",
              "    <tr>\n",
              "      <th>1</th>\n",
              "      <td>5</td>\n",
              "      <td>1</td>\n",
              "      <td>ALPHABET CITY</td>\n",
              "      <td>07 RENTALS - WALKUP APARTMENTS</td>\n",
              "      <td>2</td>\n",
              "      <td>399</td>\n",
              "      <td>26</td>\n",
              "      <td></td>\n",
              "      <td>C7</td>\n",
              "      <td>234 EAST 4TH   STREET</td>\n",
              "      <td>...</td>\n",
              "      <td>28</td>\n",
              "      <td>3</td>\n",
              "      <td>31</td>\n",
              "      <td>4616</td>\n",
              "      <td>18690</td>\n",
              "      <td>1900</td>\n",
              "      <td>2</td>\n",
              "      <td>C7</td>\n",
              "      <td>-</td>\n",
              "      <td>2016-12-14 00:00:00</td>\n",
              "    </tr>\n",
              "    <tr>\n",
              "      <th>2</th>\n",
              "      <td>6</td>\n",
              "      <td>1</td>\n",
              "      <td>ALPHABET CITY</td>\n",
              "      <td>07 RENTALS - WALKUP APARTMENTS</td>\n",
              "      <td>2</td>\n",
              "      <td>399</td>\n",
              "      <td>39</td>\n",
              "      <td></td>\n",
              "      <td>C7</td>\n",
              "      <td>197 EAST 3RD   STREET</td>\n",
              "      <td>...</td>\n",
              "      <td>16</td>\n",
              "      <td>1</td>\n",
              "      <td>17</td>\n",
              "      <td>2212</td>\n",
              "      <td>7803</td>\n",
              "      <td>1900</td>\n",
              "      <td>2</td>\n",
              "      <td>C7</td>\n",
              "      <td>-</td>\n",
              "      <td>2016-12-09 00:00:00</td>\n",
              "    </tr>\n",
              "    <tr>\n",
              "      <th>3</th>\n",
              "      <td>7</td>\n",
              "      <td>1</td>\n",
              "      <td>ALPHABET CITY</td>\n",
              "      <td>07 RENTALS - WALKUP APARTMENTS</td>\n",
              "      <td>2B</td>\n",
              "      <td>402</td>\n",
              "      <td>21</td>\n",
              "      <td></td>\n",
              "      <td>C4</td>\n",
              "      <td>154 EAST 7TH STREET</td>\n",
              "      <td>...</td>\n",
              "      <td>10</td>\n",
              "      <td>0</td>\n",
              "      <td>10</td>\n",
              "      <td>2272</td>\n",
              "      <td>6794</td>\n",
              "      <td>1913</td>\n",
              "      <td>2</td>\n",
              "      <td>C4</td>\n",
              "      <td>3936272</td>\n",
              "      <td>2016-09-23 00:00:00</td>\n",
              "    </tr>\n",
              "    <tr>\n",
              "      <th>4</th>\n",
              "      <td>8</td>\n",
              "      <td>1</td>\n",
              "      <td>ALPHABET CITY</td>\n",
              "      <td>07 RENTALS - WALKUP APARTMENTS</td>\n",
              "      <td>2A</td>\n",
              "      <td>404</td>\n",
              "      <td>55</td>\n",
              "      <td></td>\n",
              "      <td>C2</td>\n",
              "      <td>301 EAST 10TH   STREET</td>\n",
              "      <td>...</td>\n",
              "      <td>6</td>\n",
              "      <td>0</td>\n",
              "      <td>6</td>\n",
              "      <td>2369</td>\n",
              "      <td>4615</td>\n",
              "      <td>1900</td>\n",
              "      <td>2</td>\n",
              "      <td>C2</td>\n",
              "      <td>8000000</td>\n",
              "      <td>2016-11-17 00:00:00</td>\n",
              "    </tr>\n",
              "  </tbody>\n",
              "</table>\n",
              "<p>5 rows × 22 columns</p>\n",
              "</div>\n",
              "      <button class=\"colab-df-convert\" onclick=\"convertToInteractive('df-6c764fa3-259d-4fc8-8229-8425555cfc05')\"\n",
              "              title=\"Convert this dataframe to an interactive table.\"\n",
              "              style=\"display:none;\">\n",
              "        \n",
              "  <svg xmlns=\"http://www.w3.org/2000/svg\" height=\"24px\"viewBox=\"0 0 24 24\"\n",
              "       width=\"24px\">\n",
              "    <path d=\"M0 0h24v24H0V0z\" fill=\"none\"/>\n",
              "    <path d=\"M18.56 5.44l.94 2.06.94-2.06 2.06-.94-2.06-.94-.94-2.06-.94 2.06-2.06.94zm-11 1L8.5 8.5l.94-2.06 2.06-.94-2.06-.94L8.5 2.5l-.94 2.06-2.06.94zm10 10l.94 2.06.94-2.06 2.06-.94-2.06-.94-.94-2.06-.94 2.06-2.06.94z\"/><path d=\"M17.41 7.96l-1.37-1.37c-.4-.4-.92-.59-1.43-.59-.52 0-1.04.2-1.43.59L10.3 9.45l-7.72 7.72c-.78.78-.78 2.05 0 2.83L4 21.41c.39.39.9.59 1.41.59.51 0 1.02-.2 1.41-.59l7.78-7.78 2.81-2.81c.8-.78.8-2.07 0-2.86zM5.41 20L4 18.59l7.72-7.72 1.47 1.35L5.41 20z\"/>\n",
              "  </svg>\n",
              "      </button>\n",
              "      \n",
              "  <style>\n",
              "    .colab-df-container {\n",
              "      display:flex;\n",
              "      flex-wrap:wrap;\n",
              "      gap: 12px;\n",
              "    }\n",
              "\n",
              "    .colab-df-convert {\n",
              "      background-color: #E8F0FE;\n",
              "      border: none;\n",
              "      border-radius: 50%;\n",
              "      cursor: pointer;\n",
              "      display: none;\n",
              "      fill: #1967D2;\n",
              "      height: 32px;\n",
              "      padding: 0 0 0 0;\n",
              "      width: 32px;\n",
              "    }\n",
              "\n",
              "    .colab-df-convert:hover {\n",
              "      background-color: #E2EBFA;\n",
              "      box-shadow: 0px 1px 2px rgba(60, 64, 67, 0.3), 0px 1px 3px 1px rgba(60, 64, 67, 0.15);\n",
              "      fill: #174EA6;\n",
              "    }\n",
              "\n",
              "    [theme=dark] .colab-df-convert {\n",
              "      background-color: #3B4455;\n",
              "      fill: #D2E3FC;\n",
              "    }\n",
              "\n",
              "    [theme=dark] .colab-df-convert:hover {\n",
              "      background-color: #434B5C;\n",
              "      box-shadow: 0px 1px 3px 1px rgba(0, 0, 0, 0.15);\n",
              "      filter: drop-shadow(0px 1px 2px rgba(0, 0, 0, 0.3));\n",
              "      fill: #FFFFFF;\n",
              "    }\n",
              "  </style>\n",
              "\n",
              "      <script>\n",
              "        const buttonEl =\n",
              "          document.querySelector('#df-6c764fa3-259d-4fc8-8229-8425555cfc05 button.colab-df-convert');\n",
              "        buttonEl.style.display =\n",
              "          google.colab.kernel.accessAllowed ? 'block' : 'none';\n",
              "\n",
              "        async function convertToInteractive(key) {\n",
              "          const element = document.querySelector('#df-6c764fa3-259d-4fc8-8229-8425555cfc05');\n",
              "          const dataTable =\n",
              "            await google.colab.kernel.invokeFunction('convertToInteractive',\n",
              "                                                     [key], {});\n",
              "          if (!dataTable) return;\n",
              "\n",
              "          const docLinkHtml = 'Like what you see? Visit the ' +\n",
              "            '<a target=\"_blank\" href=https://colab.research.google.com/notebooks/data_table.ipynb>data table notebook</a>'\n",
              "            + ' to learn more about interactive tables.';\n",
              "          element.innerHTML = '';\n",
              "          dataTable['output_type'] = 'display_data';\n",
              "          await google.colab.output.renderOutput(dataTable, element);\n",
              "          const docLink = document.createElement('div');\n",
              "          docLink.innerHTML = docLinkHtml;\n",
              "          element.appendChild(docLink);\n",
              "        }\n",
              "      </script>\n",
              "    </div>\n",
              "  </div>\n",
              "  "
            ]
          },
          "metadata": {},
          "execution_count": 303
        }
      ]
    },
    {
      "cell_type": "code",
      "source": [
        "dataset.info()"
      ],
      "metadata": {
        "id": "L-7wxQAZ9Fx9",
        "colab": {
          "base_uri": "https://localhost:8080/"
        },
        "outputId": "f7640c18-8a9c-4971-d8c4-c5ad220c7d29"
      },
      "execution_count": null,
      "outputs": [
        {
          "output_type": "stream",
          "name": "stdout",
          "text": [
            "<class 'pandas.core.frame.DataFrame'>\n",
            "RangeIndex: 84548 entries, 0 to 84547\n",
            "Data columns (total 22 columns):\n",
            " #   Column                          Non-Null Count  Dtype \n",
            "---  ------                          --------------  ----- \n",
            " 0   Unnamed: 0                      84548 non-null  int64 \n",
            " 1   BOROUGH                         84548 non-null  int64 \n",
            " 2   NEIGHBORHOOD                    84548 non-null  object\n",
            " 3   BUILDING CLASS CATEGORY         84548 non-null  object\n",
            " 4   TAX CLASS AT PRESENT            84548 non-null  object\n",
            " 5   BLOCK                           84548 non-null  int64 \n",
            " 6   LOT                             84548 non-null  int64 \n",
            " 7   EASE-MENT                       84548 non-null  object\n",
            " 8   BUILDING CLASS AT PRESENT       84548 non-null  object\n",
            " 9   ADDRESS                         84548 non-null  object\n",
            " 10  APARTMENT NUMBER                84548 non-null  object\n",
            " 11  ZIP CODE                        84548 non-null  int64 \n",
            " 12  RESIDENTIAL UNITS               84548 non-null  int64 \n",
            " 13  COMMERCIAL UNITS                84548 non-null  int64 \n",
            " 14  TOTAL UNITS                     84548 non-null  int64 \n",
            " 15  LAND SQUARE FEET                84548 non-null  object\n",
            " 16  GROSS SQUARE FEET               84548 non-null  object\n",
            " 17  YEAR BUILT                      84548 non-null  int64 \n",
            " 18  TAX CLASS AT TIME OF SALE       84548 non-null  int64 \n",
            " 19  BUILDING CLASS AT TIME OF SALE  84548 non-null  object\n",
            " 20  SALE PRICE                      84548 non-null  object\n",
            " 21  SALE DATE                       84548 non-null  object\n",
            "dtypes: int64(10), object(12)\n",
            "memory usage: 14.2+ MB\n"
          ]
        }
      ]
    },
    {
      "cell_type": "markdown",
      "source": [
        "#Fix Structural Errors and Data Formatting"
      ],
      "metadata": {
        "id": "-eTIQh_GT2Rn"
      }
    },
    {
      "cell_type": "code",
      "source": [
        "dataset.replace(' ',np.nan,inplace=True)"
      ],
      "metadata": {
        "id": "YzgqF-jbUDjm"
      },
      "execution_count": null,
      "outputs": []
    },
    {
      "cell_type": "markdown",
      "source": [
        "Here we can see, there are some columns that are mistyped. Let's correct them."
      ],
      "metadata": {
        "id": "3JlPNeTqj8Qe"
      }
    },
    {
      "cell_type": "code",
      "source": [
        "num_col = ['LAND SQUARE FEET','GROSS SQUARE FEET','SALE PRICE']\n",
        "for item in num_col:\n",
        "  dataset[item] = pd.to_numeric(dataset[item],errors = 'coerce')"
      ],
      "metadata": {
        "id": "-8zxq2nGmOJJ"
      },
      "execution_count": null,
      "outputs": []
    },
    {
      "cell_type": "code",
      "source": [
        "dataset['SALE DATE'] = pd.to_datetime(dataset['SALE DATE'],errors = 'coerce')"
      ],
      "metadata": {
        "id": "iWkJAs2eXmSh"
      },
      "execution_count": null,
      "outputs": []
    },
    {
      "cell_type": "code",
      "source": [
        "categorical_col = ['BOROUGH','TAX CLASS AT PRESENT','BUILDING CLASS AT PRESENT','TAX CLASS AT TIME OF SALE','BUILDING CLASS AT TIME OF SALE']\n",
        "for item in categorical_col:\n",
        "  dataset[item] = dataset[item].astype('object')"
      ],
      "metadata": {
        "id": "D1blI1AOTGzZ"
      },
      "execution_count": null,
      "outputs": []
    },
    {
      "cell_type": "code",
      "source": [
        "dataset['SALE DATE'] = pd.to_datetime(dataset['SALE DATE'], errors='coerce')"
      ],
      "metadata": {
        "id": "j7Q8PokXH2JU"
      },
      "execution_count": null,
      "outputs": []
    },
    {
      "cell_type": "markdown",
      "source": [
        "Encoding Categorical Values"
      ],
      "metadata": {
        "id": "GNaPcRR84fHE"
      }
    },
    {
      "cell_type": "code",
      "source": [
        "ordEncoder = OrdinalEncoder()\n",
        "dataset[['NEIGHBORHOOD','BUILDING CLASS CATEGORY','TAX CLASS AT PRESENT','BUILDING CLASS AT PRESENT','BUILDING CLASS AT TIME OF SALE']] = ordEncoder.fit_transform(dataset[['NEIGHBORHOOD','BUILDING CLASS CATEGORY','TAX CLASS AT PRESENT','BUILDING CLASS AT PRESENT','BUILDING CLASS AT TIME OF SALE']])"
      ],
      "metadata": {
        "id": "eXwTYJrA4mwd"
      },
      "execution_count": null,
      "outputs": []
    },
    {
      "cell_type": "code",
      "source": [
        "dataset"
      ],
      "metadata": {
        "colab": {
          "base_uri": "https://localhost:8080/",
          "height": 851
        },
        "id": "ZQ49lx9pP6g1",
        "outputId": "366415fe-c366-4256-db2a-9db97eac91c2"
      },
      "execution_count": null,
      "outputs": [
        {
          "output_type": "execute_result",
          "data": {
            "text/plain": [
              "       Unnamed: 0 BOROUGH  NEIGHBORHOOD  BUILDING CLASS CATEGORY  \\\n",
              "0               4       1           1.0                      6.0   \n",
              "1               5       1           1.0                      6.0   \n",
              "2               6       1           1.0                      6.0   \n",
              "3               7       1           1.0                      6.0   \n",
              "4               8       1           1.0                      6.0   \n",
              "...           ...     ...           ...                      ...   \n",
              "84543        8409       5         251.0                      1.0   \n",
              "84544        8410       5         251.0                      1.0   \n",
              "84545        8411       5         251.0                      1.0   \n",
              "84546        8412       5         251.0                     20.0   \n",
              "84547        8413       5         251.0                     32.0   \n",
              "\n",
              "       TAX CLASS AT PRESENT  BLOCK  LOT  EASE-MENT  BUILDING CLASS AT PRESENT  \\\n",
              "0                       5.0    392    6        NaN                       15.0   \n",
              "1                       4.0    399   26        NaN                       20.0   \n",
              "2                       4.0    399   39        NaN                       20.0   \n",
              "3                       6.0    402   21        NaN                       17.0   \n",
              "4                       5.0    404   55        NaN                       15.0   \n",
              "...                     ...    ...  ...        ...                        ...   \n",
              "84543                   0.0   7349   34        NaN                       12.0   \n",
              "84544                   0.0   7349   78        NaN                       12.0   \n",
              "84545                   0.0   7351   60        NaN                       10.0   \n",
              "84546                   9.0   7100   28        NaN                       83.0   \n",
              "84547                   9.0   7105  679        NaN                      112.0   \n",
              "\n",
              "                      ADDRESS  ... RESIDENTIAL UNITS  COMMERCIAL UNITS  \\\n",
              "0                153 AVENUE B  ...                 5                 0   \n",
              "1       234 EAST 4TH   STREET  ...                28                 3   \n",
              "2       197 EAST 3RD   STREET  ...                16                 1   \n",
              "3         154 EAST 7TH STREET  ...                10                 0   \n",
              "4      301 EAST 10TH   STREET  ...                 6                 0   \n",
              "...                       ...  ...               ...               ...   \n",
              "84543           37 QUAIL LANE  ...                 2                 0   \n",
              "84544        32 PHEASANT LANE  ...                 2                 0   \n",
              "84545        49 PITNEY AVENUE  ...                 2                 0   \n",
              "84546   2730 ARTHUR KILL ROAD  ...                 0                 7   \n",
              "84547       155 CLAY PIT ROAD  ...                 0                 1   \n",
              "\n",
              "       TOTAL UNITS  LAND SQUARE FEET  GROSS SQUARE FEET  YEAR BUILT  \\\n",
              "0                5            1633.0             6440.0        1900   \n",
              "1               31            4616.0            18690.0        1900   \n",
              "2               17            2212.0             7803.0        1900   \n",
              "3               10            2272.0             6794.0        1913   \n",
              "4                6            2369.0             4615.0        1900   \n",
              "...            ...               ...                ...         ...   \n",
              "84543            2            2400.0             2575.0        1998   \n",
              "84544            2            2498.0             2377.0        1998   \n",
              "84545            2            4000.0             1496.0        1925   \n",
              "84546            7          208033.0            64117.0        2001   \n",
              "84547            1           10796.0             2400.0        2006   \n",
              "\n",
              "       TAX CLASS AT TIME OF SALE  BUILDING CLASS AT TIME OF SALE  SALE PRICE  \\\n",
              "0                              2                            15.0   6625000.0   \n",
              "1                              2                            20.0         NaN   \n",
              "2                              2                            20.0         NaN   \n",
              "3                              2                            17.0   3936272.0   \n",
              "4                              2                            15.0   8000000.0   \n",
              "...                          ...                             ...         ...   \n",
              "84543                          1                            12.0    450000.0   \n",
              "84544                          1                            12.0    550000.0   \n",
              "84545                          1                            10.0    460000.0   \n",
              "84546                          4                            83.0  11693337.0   \n",
              "84547                          4                           112.0     69300.0   \n",
              "\n",
              "       SALE DATE  \n",
              "0     2017-07-19  \n",
              "1     2016-12-14  \n",
              "2     2016-12-09  \n",
              "3     2016-09-23  \n",
              "4     2016-11-17  \n",
              "...          ...  \n",
              "84543 2016-11-28  \n",
              "84544 2017-04-21  \n",
              "84545 2017-07-05  \n",
              "84546 2016-12-21  \n",
              "84547 2016-10-27  \n",
              "\n",
              "[84548 rows x 22 columns]"
            ],
            "text/html": [
              "\n",
              "  <div id=\"df-e790fd91-7c23-445c-b94a-0a188eff66ad\">\n",
              "    <div class=\"colab-df-container\">\n",
              "      <div>\n",
              "<style scoped>\n",
              "    .dataframe tbody tr th:only-of-type {\n",
              "        vertical-align: middle;\n",
              "    }\n",
              "\n",
              "    .dataframe tbody tr th {\n",
              "        vertical-align: top;\n",
              "    }\n",
              "\n",
              "    .dataframe thead th {\n",
              "        text-align: right;\n",
              "    }\n",
              "</style>\n",
              "<table border=\"1\" class=\"dataframe\">\n",
              "  <thead>\n",
              "    <tr style=\"text-align: right;\">\n",
              "      <th></th>\n",
              "      <th>Unnamed: 0</th>\n",
              "      <th>BOROUGH</th>\n",
              "      <th>NEIGHBORHOOD</th>\n",
              "      <th>BUILDING CLASS CATEGORY</th>\n",
              "      <th>TAX CLASS AT PRESENT</th>\n",
              "      <th>BLOCK</th>\n",
              "      <th>LOT</th>\n",
              "      <th>EASE-MENT</th>\n",
              "      <th>BUILDING CLASS AT PRESENT</th>\n",
              "      <th>ADDRESS</th>\n",
              "      <th>...</th>\n",
              "      <th>RESIDENTIAL UNITS</th>\n",
              "      <th>COMMERCIAL UNITS</th>\n",
              "      <th>TOTAL UNITS</th>\n",
              "      <th>LAND SQUARE FEET</th>\n",
              "      <th>GROSS SQUARE FEET</th>\n",
              "      <th>YEAR BUILT</th>\n",
              "      <th>TAX CLASS AT TIME OF SALE</th>\n",
              "      <th>BUILDING CLASS AT TIME OF SALE</th>\n",
              "      <th>SALE PRICE</th>\n",
              "      <th>SALE DATE</th>\n",
              "    </tr>\n",
              "  </thead>\n",
              "  <tbody>\n",
              "    <tr>\n",
              "      <th>0</th>\n",
              "      <td>4</td>\n",
              "      <td>1</td>\n",
              "      <td>1.0</td>\n",
              "      <td>6.0</td>\n",
              "      <td>5.0</td>\n",
              "      <td>392</td>\n",
              "      <td>6</td>\n",
              "      <td>NaN</td>\n",
              "      <td>15.0</td>\n",
              "      <td>153 AVENUE B</td>\n",
              "      <td>...</td>\n",
              "      <td>5</td>\n",
              "      <td>0</td>\n",
              "      <td>5</td>\n",
              "      <td>1633.0</td>\n",
              "      <td>6440.0</td>\n",
              "      <td>1900</td>\n",
              "      <td>2</td>\n",
              "      <td>15.0</td>\n",
              "      <td>6625000.0</td>\n",
              "      <td>2017-07-19</td>\n",
              "    </tr>\n",
              "    <tr>\n",
              "      <th>1</th>\n",
              "      <td>5</td>\n",
              "      <td>1</td>\n",
              "      <td>1.0</td>\n",
              "      <td>6.0</td>\n",
              "      <td>4.0</td>\n",
              "      <td>399</td>\n",
              "      <td>26</td>\n",
              "      <td>NaN</td>\n",
              "      <td>20.0</td>\n",
              "      <td>234 EAST 4TH   STREET</td>\n",
              "      <td>...</td>\n",
              "      <td>28</td>\n",
              "      <td>3</td>\n",
              "      <td>31</td>\n",
              "      <td>4616.0</td>\n",
              "      <td>18690.0</td>\n",
              "      <td>1900</td>\n",
              "      <td>2</td>\n",
              "      <td>20.0</td>\n",
              "      <td>NaN</td>\n",
              "      <td>2016-12-14</td>\n",
              "    </tr>\n",
              "    <tr>\n",
              "      <th>2</th>\n",
              "      <td>6</td>\n",
              "      <td>1</td>\n",
              "      <td>1.0</td>\n",
              "      <td>6.0</td>\n",
              "      <td>4.0</td>\n",
              "      <td>399</td>\n",
              "      <td>39</td>\n",
              "      <td>NaN</td>\n",
              "      <td>20.0</td>\n",
              "      <td>197 EAST 3RD   STREET</td>\n",
              "      <td>...</td>\n",
              "      <td>16</td>\n",
              "      <td>1</td>\n",
              "      <td>17</td>\n",
              "      <td>2212.0</td>\n",
              "      <td>7803.0</td>\n",
              "      <td>1900</td>\n",
              "      <td>2</td>\n",
              "      <td>20.0</td>\n",
              "      <td>NaN</td>\n",
              "      <td>2016-12-09</td>\n",
              "    </tr>\n",
              "    <tr>\n",
              "      <th>3</th>\n",
              "      <td>7</td>\n",
              "      <td>1</td>\n",
              "      <td>1.0</td>\n",
              "      <td>6.0</td>\n",
              "      <td>6.0</td>\n",
              "      <td>402</td>\n",
              "      <td>21</td>\n",
              "      <td>NaN</td>\n",
              "      <td>17.0</td>\n",
              "      <td>154 EAST 7TH STREET</td>\n",
              "      <td>...</td>\n",
              "      <td>10</td>\n",
              "      <td>0</td>\n",
              "      <td>10</td>\n",
              "      <td>2272.0</td>\n",
              "      <td>6794.0</td>\n",
              "      <td>1913</td>\n",
              "      <td>2</td>\n",
              "      <td>17.0</td>\n",
              "      <td>3936272.0</td>\n",
              "      <td>2016-09-23</td>\n",
              "    </tr>\n",
              "    <tr>\n",
              "      <th>4</th>\n",
              "      <td>8</td>\n",
              "      <td>1</td>\n",
              "      <td>1.0</td>\n",
              "      <td>6.0</td>\n",
              "      <td>5.0</td>\n",
              "      <td>404</td>\n",
              "      <td>55</td>\n",
              "      <td>NaN</td>\n",
              "      <td>15.0</td>\n",
              "      <td>301 EAST 10TH   STREET</td>\n",
              "      <td>...</td>\n",
              "      <td>6</td>\n",
              "      <td>0</td>\n",
              "      <td>6</td>\n",
              "      <td>2369.0</td>\n",
              "      <td>4615.0</td>\n",
              "      <td>1900</td>\n",
              "      <td>2</td>\n",
              "      <td>15.0</td>\n",
              "      <td>8000000.0</td>\n",
              "      <td>2016-11-17</td>\n",
              "    </tr>\n",
              "    <tr>\n",
              "      <th>...</th>\n",
              "      <td>...</td>\n",
              "      <td>...</td>\n",
              "      <td>...</td>\n",
              "      <td>...</td>\n",
              "      <td>...</td>\n",
              "      <td>...</td>\n",
              "      <td>...</td>\n",
              "      <td>...</td>\n",
              "      <td>...</td>\n",
              "      <td>...</td>\n",
              "      <td>...</td>\n",
              "      <td>...</td>\n",
              "      <td>...</td>\n",
              "      <td>...</td>\n",
              "      <td>...</td>\n",
              "      <td>...</td>\n",
              "      <td>...</td>\n",
              "      <td>...</td>\n",
              "      <td>...</td>\n",
              "      <td>...</td>\n",
              "      <td>...</td>\n",
              "    </tr>\n",
              "    <tr>\n",
              "      <th>84543</th>\n",
              "      <td>8409</td>\n",
              "      <td>5</td>\n",
              "      <td>251.0</td>\n",
              "      <td>1.0</td>\n",
              "      <td>0.0</td>\n",
              "      <td>7349</td>\n",
              "      <td>34</td>\n",
              "      <td>NaN</td>\n",
              "      <td>12.0</td>\n",
              "      <td>37 QUAIL LANE</td>\n",
              "      <td>...</td>\n",
              "      <td>2</td>\n",
              "      <td>0</td>\n",
              "      <td>2</td>\n",
              "      <td>2400.0</td>\n",
              "      <td>2575.0</td>\n",
              "      <td>1998</td>\n",
              "      <td>1</td>\n",
              "      <td>12.0</td>\n",
              "      <td>450000.0</td>\n",
              "      <td>2016-11-28</td>\n",
              "    </tr>\n",
              "    <tr>\n",
              "      <th>84544</th>\n",
              "      <td>8410</td>\n",
              "      <td>5</td>\n",
              "      <td>251.0</td>\n",
              "      <td>1.0</td>\n",
              "      <td>0.0</td>\n",
              "      <td>7349</td>\n",
              "      <td>78</td>\n",
              "      <td>NaN</td>\n",
              "      <td>12.0</td>\n",
              "      <td>32 PHEASANT LANE</td>\n",
              "      <td>...</td>\n",
              "      <td>2</td>\n",
              "      <td>0</td>\n",
              "      <td>2</td>\n",
              "      <td>2498.0</td>\n",
              "      <td>2377.0</td>\n",
              "      <td>1998</td>\n",
              "      <td>1</td>\n",
              "      <td>12.0</td>\n",
              "      <td>550000.0</td>\n",
              "      <td>2017-04-21</td>\n",
              "    </tr>\n",
              "    <tr>\n",
              "      <th>84545</th>\n",
              "      <td>8411</td>\n",
              "      <td>5</td>\n",
              "      <td>251.0</td>\n",
              "      <td>1.0</td>\n",
              "      <td>0.0</td>\n",
              "      <td>7351</td>\n",
              "      <td>60</td>\n",
              "      <td>NaN</td>\n",
              "      <td>10.0</td>\n",
              "      <td>49 PITNEY AVENUE</td>\n",
              "      <td>...</td>\n",
              "      <td>2</td>\n",
              "      <td>0</td>\n",
              "      <td>2</td>\n",
              "      <td>4000.0</td>\n",
              "      <td>1496.0</td>\n",
              "      <td>1925</td>\n",
              "      <td>1</td>\n",
              "      <td>10.0</td>\n",
              "      <td>460000.0</td>\n",
              "      <td>2017-07-05</td>\n",
              "    </tr>\n",
              "    <tr>\n",
              "      <th>84546</th>\n",
              "      <td>8412</td>\n",
              "      <td>5</td>\n",
              "      <td>251.0</td>\n",
              "      <td>20.0</td>\n",
              "      <td>9.0</td>\n",
              "      <td>7100</td>\n",
              "      <td>28</td>\n",
              "      <td>NaN</td>\n",
              "      <td>83.0</td>\n",
              "      <td>2730 ARTHUR KILL ROAD</td>\n",
              "      <td>...</td>\n",
              "      <td>0</td>\n",
              "      <td>7</td>\n",
              "      <td>7</td>\n",
              "      <td>208033.0</td>\n",
              "      <td>64117.0</td>\n",
              "      <td>2001</td>\n",
              "      <td>4</td>\n",
              "      <td>83.0</td>\n",
              "      <td>11693337.0</td>\n",
              "      <td>2016-12-21</td>\n",
              "    </tr>\n",
              "    <tr>\n",
              "      <th>84547</th>\n",
              "      <td>8413</td>\n",
              "      <td>5</td>\n",
              "      <td>251.0</td>\n",
              "      <td>32.0</td>\n",
              "      <td>9.0</td>\n",
              "      <td>7105</td>\n",
              "      <td>679</td>\n",
              "      <td>NaN</td>\n",
              "      <td>112.0</td>\n",
              "      <td>155 CLAY PIT ROAD</td>\n",
              "      <td>...</td>\n",
              "      <td>0</td>\n",
              "      <td>1</td>\n",
              "      <td>1</td>\n",
              "      <td>10796.0</td>\n",
              "      <td>2400.0</td>\n",
              "      <td>2006</td>\n",
              "      <td>4</td>\n",
              "      <td>112.0</td>\n",
              "      <td>69300.0</td>\n",
              "      <td>2016-10-27</td>\n",
              "    </tr>\n",
              "  </tbody>\n",
              "</table>\n",
              "<p>84548 rows × 22 columns</p>\n",
              "</div>\n",
              "      <button class=\"colab-df-convert\" onclick=\"convertToInteractive('df-e790fd91-7c23-445c-b94a-0a188eff66ad')\"\n",
              "              title=\"Convert this dataframe to an interactive table.\"\n",
              "              style=\"display:none;\">\n",
              "        \n",
              "  <svg xmlns=\"http://www.w3.org/2000/svg\" height=\"24px\"viewBox=\"0 0 24 24\"\n",
              "       width=\"24px\">\n",
              "    <path d=\"M0 0h24v24H0V0z\" fill=\"none\"/>\n",
              "    <path d=\"M18.56 5.44l.94 2.06.94-2.06 2.06-.94-2.06-.94-.94-2.06-.94 2.06-2.06.94zm-11 1L8.5 8.5l.94-2.06 2.06-.94-2.06-.94L8.5 2.5l-.94 2.06-2.06.94zm10 10l.94 2.06.94-2.06 2.06-.94-2.06-.94-.94-2.06-.94 2.06-2.06.94z\"/><path d=\"M17.41 7.96l-1.37-1.37c-.4-.4-.92-.59-1.43-.59-.52 0-1.04.2-1.43.59L10.3 9.45l-7.72 7.72c-.78.78-.78 2.05 0 2.83L4 21.41c.39.39.9.59 1.41.59.51 0 1.02-.2 1.41-.59l7.78-7.78 2.81-2.81c.8-.78.8-2.07 0-2.86zM5.41 20L4 18.59l7.72-7.72 1.47 1.35L5.41 20z\"/>\n",
              "  </svg>\n",
              "      </button>\n",
              "      \n",
              "  <style>\n",
              "    .colab-df-container {\n",
              "      display:flex;\n",
              "      flex-wrap:wrap;\n",
              "      gap: 12px;\n",
              "    }\n",
              "\n",
              "    .colab-df-convert {\n",
              "      background-color: #E8F0FE;\n",
              "      border: none;\n",
              "      border-radius: 50%;\n",
              "      cursor: pointer;\n",
              "      display: none;\n",
              "      fill: #1967D2;\n",
              "      height: 32px;\n",
              "      padding: 0 0 0 0;\n",
              "      width: 32px;\n",
              "    }\n",
              "\n",
              "    .colab-df-convert:hover {\n",
              "      background-color: #E2EBFA;\n",
              "      box-shadow: 0px 1px 2px rgba(60, 64, 67, 0.3), 0px 1px 3px 1px rgba(60, 64, 67, 0.15);\n",
              "      fill: #174EA6;\n",
              "    }\n",
              "\n",
              "    [theme=dark] .colab-df-convert {\n",
              "      background-color: #3B4455;\n",
              "      fill: #D2E3FC;\n",
              "    }\n",
              "\n",
              "    [theme=dark] .colab-df-convert:hover {\n",
              "      background-color: #434B5C;\n",
              "      box-shadow: 0px 1px 3px 1px rgba(0, 0, 0, 0.15);\n",
              "      filter: drop-shadow(0px 1px 2px rgba(0, 0, 0, 0.3));\n",
              "      fill: #FFFFFF;\n",
              "    }\n",
              "  </style>\n",
              "\n",
              "      <script>\n",
              "        const buttonEl =\n",
              "          document.querySelector('#df-e790fd91-7c23-445c-b94a-0a188eff66ad button.colab-df-convert');\n",
              "        buttonEl.style.display =\n",
              "          google.colab.kernel.accessAllowed ? 'block' : 'none';\n",
              "\n",
              "        async function convertToInteractive(key) {\n",
              "          const element = document.querySelector('#df-e790fd91-7c23-445c-b94a-0a188eff66ad');\n",
              "          const dataTable =\n",
              "            await google.colab.kernel.invokeFunction('convertToInteractive',\n",
              "                                                     [key], {});\n",
              "          if (!dataTable) return;\n",
              "\n",
              "          const docLinkHtml = 'Like what you see? Visit the ' +\n",
              "            '<a target=\"_blank\" href=https://colab.research.google.com/notebooks/data_table.ipynb>data table notebook</a>'\n",
              "            + ' to learn more about interactive tables.';\n",
              "          element.innerHTML = '';\n",
              "          dataTable['output_type'] = 'display_data';\n",
              "          await google.colab.output.renderOutput(dataTable, element);\n",
              "          const docLink = document.createElement('div');\n",
              "          docLink.innerHTML = docLinkHtml;\n",
              "          element.appendChild(docLink);\n",
              "        }\n",
              "      </script>\n",
              "    </div>\n",
              "  </div>\n",
              "  "
            ]
          },
          "metadata": {},
          "execution_count": 311
        }
      ]
    },
    {
      "cell_type": "markdown",
      "source": [
        "Separate selling year and month"
      ],
      "metadata": {
        "id": "GAUth9f3Jsz3"
      }
    },
    {
      "cell_type": "code",
      "source": [
        "dataset['SALE YEAR'] = pd.DatetimeIndex(dataset['SALE DATE']).year\n",
        "dataset['SALE MONTH'] = pd.DatetimeIndex(dataset['SALE DATE']).month"
      ],
      "metadata": {
        "id": "0qbLRNiMIXce"
      },
      "execution_count": null,
      "outputs": []
    },
    {
      "cell_type": "code",
      "source": [
        "# copy the dataset to avoid mismanupulation \n",
        "df_copy = dataset.copy()\n",
        "df_copy.tail()"
      ],
      "metadata": {
        "id": "vjUwMTPDUJq_",
        "colab": {
          "base_uri": "https://localhost:8080/",
          "height": 508
        },
        "outputId": "1658364d-8330-47e5-f021-6bc2e37e5873"
      },
      "execution_count": null,
      "outputs": [
        {
          "output_type": "execute_result",
          "data": {
            "text/plain": [
              "       Unnamed: 0 BOROUGH  NEIGHBORHOOD  BUILDING CLASS CATEGORY  \\\n",
              "84543        8409       5         251.0                      1.0   \n",
              "84544        8410       5         251.0                      1.0   \n",
              "84545        8411       5         251.0                      1.0   \n",
              "84546        8412       5         251.0                     20.0   \n",
              "84547        8413       5         251.0                     32.0   \n",
              "\n",
              "       TAX CLASS AT PRESENT  BLOCK  LOT  EASE-MENT  BUILDING CLASS AT PRESENT  \\\n",
              "84543                   0.0   7349   34        NaN                       12.0   \n",
              "84544                   0.0   7349   78        NaN                       12.0   \n",
              "84545                   0.0   7351   60        NaN                       10.0   \n",
              "84546                   9.0   7100   28        NaN                       83.0   \n",
              "84547                   9.0   7105  679        NaN                      112.0   \n",
              "\n",
              "                     ADDRESS  ... TOTAL UNITS  LAND SQUARE FEET  \\\n",
              "84543          37 QUAIL LANE  ...           2            2400.0   \n",
              "84544       32 PHEASANT LANE  ...           2            2498.0   \n",
              "84545       49 PITNEY AVENUE  ...           2            4000.0   \n",
              "84546  2730 ARTHUR KILL ROAD  ...           7          208033.0   \n",
              "84547      155 CLAY PIT ROAD  ...           1           10796.0   \n",
              "\n",
              "       GROSS SQUARE FEET  YEAR BUILT  TAX CLASS AT TIME OF SALE  \\\n",
              "84543             2575.0        1998                          1   \n",
              "84544             2377.0        1998                          1   \n",
              "84545             1496.0        1925                          1   \n",
              "84546            64117.0        2001                          4   \n",
              "84547             2400.0        2006                          4   \n",
              "\n",
              "       BUILDING CLASS AT TIME OF SALE  SALE PRICE  SALE DATE SALE YEAR  \\\n",
              "84543                            12.0    450000.0 2016-11-28      2016   \n",
              "84544                            12.0    550000.0 2017-04-21      2017   \n",
              "84545                            10.0    460000.0 2017-07-05      2017   \n",
              "84546                            83.0  11693337.0 2016-12-21      2016   \n",
              "84547                           112.0     69300.0 2016-10-27      2016   \n",
              "\n",
              "       SALE MONTH  \n",
              "84543          11  \n",
              "84544           4  \n",
              "84545           7  \n",
              "84546          12  \n",
              "84547          10  \n",
              "\n",
              "[5 rows x 24 columns]"
            ],
            "text/html": [
              "\n",
              "  <div id=\"df-a16a5ae1-ac0b-4165-9784-645d3bd2f612\">\n",
              "    <div class=\"colab-df-container\">\n",
              "      <div>\n",
              "<style scoped>\n",
              "    .dataframe tbody tr th:only-of-type {\n",
              "        vertical-align: middle;\n",
              "    }\n",
              "\n",
              "    .dataframe tbody tr th {\n",
              "        vertical-align: top;\n",
              "    }\n",
              "\n",
              "    .dataframe thead th {\n",
              "        text-align: right;\n",
              "    }\n",
              "</style>\n",
              "<table border=\"1\" class=\"dataframe\">\n",
              "  <thead>\n",
              "    <tr style=\"text-align: right;\">\n",
              "      <th></th>\n",
              "      <th>Unnamed: 0</th>\n",
              "      <th>BOROUGH</th>\n",
              "      <th>NEIGHBORHOOD</th>\n",
              "      <th>BUILDING CLASS CATEGORY</th>\n",
              "      <th>TAX CLASS AT PRESENT</th>\n",
              "      <th>BLOCK</th>\n",
              "      <th>LOT</th>\n",
              "      <th>EASE-MENT</th>\n",
              "      <th>BUILDING CLASS AT PRESENT</th>\n",
              "      <th>ADDRESS</th>\n",
              "      <th>...</th>\n",
              "      <th>TOTAL UNITS</th>\n",
              "      <th>LAND SQUARE FEET</th>\n",
              "      <th>GROSS SQUARE FEET</th>\n",
              "      <th>YEAR BUILT</th>\n",
              "      <th>TAX CLASS AT TIME OF SALE</th>\n",
              "      <th>BUILDING CLASS AT TIME OF SALE</th>\n",
              "      <th>SALE PRICE</th>\n",
              "      <th>SALE DATE</th>\n",
              "      <th>SALE YEAR</th>\n",
              "      <th>SALE MONTH</th>\n",
              "    </tr>\n",
              "  </thead>\n",
              "  <tbody>\n",
              "    <tr>\n",
              "      <th>84543</th>\n",
              "      <td>8409</td>\n",
              "      <td>5</td>\n",
              "      <td>251.0</td>\n",
              "      <td>1.0</td>\n",
              "      <td>0.0</td>\n",
              "      <td>7349</td>\n",
              "      <td>34</td>\n",
              "      <td>NaN</td>\n",
              "      <td>12.0</td>\n",
              "      <td>37 QUAIL LANE</td>\n",
              "      <td>...</td>\n",
              "      <td>2</td>\n",
              "      <td>2400.0</td>\n",
              "      <td>2575.0</td>\n",
              "      <td>1998</td>\n",
              "      <td>1</td>\n",
              "      <td>12.0</td>\n",
              "      <td>450000.0</td>\n",
              "      <td>2016-11-28</td>\n",
              "      <td>2016</td>\n",
              "      <td>11</td>\n",
              "    </tr>\n",
              "    <tr>\n",
              "      <th>84544</th>\n",
              "      <td>8410</td>\n",
              "      <td>5</td>\n",
              "      <td>251.0</td>\n",
              "      <td>1.0</td>\n",
              "      <td>0.0</td>\n",
              "      <td>7349</td>\n",
              "      <td>78</td>\n",
              "      <td>NaN</td>\n",
              "      <td>12.0</td>\n",
              "      <td>32 PHEASANT LANE</td>\n",
              "      <td>...</td>\n",
              "      <td>2</td>\n",
              "      <td>2498.0</td>\n",
              "      <td>2377.0</td>\n",
              "      <td>1998</td>\n",
              "      <td>1</td>\n",
              "      <td>12.0</td>\n",
              "      <td>550000.0</td>\n",
              "      <td>2017-04-21</td>\n",
              "      <td>2017</td>\n",
              "      <td>4</td>\n",
              "    </tr>\n",
              "    <tr>\n",
              "      <th>84545</th>\n",
              "      <td>8411</td>\n",
              "      <td>5</td>\n",
              "      <td>251.0</td>\n",
              "      <td>1.0</td>\n",
              "      <td>0.0</td>\n",
              "      <td>7351</td>\n",
              "      <td>60</td>\n",
              "      <td>NaN</td>\n",
              "      <td>10.0</td>\n",
              "      <td>49 PITNEY AVENUE</td>\n",
              "      <td>...</td>\n",
              "      <td>2</td>\n",
              "      <td>4000.0</td>\n",
              "      <td>1496.0</td>\n",
              "      <td>1925</td>\n",
              "      <td>1</td>\n",
              "      <td>10.0</td>\n",
              "      <td>460000.0</td>\n",
              "      <td>2017-07-05</td>\n",
              "      <td>2017</td>\n",
              "      <td>7</td>\n",
              "    </tr>\n",
              "    <tr>\n",
              "      <th>84546</th>\n",
              "      <td>8412</td>\n",
              "      <td>5</td>\n",
              "      <td>251.0</td>\n",
              "      <td>20.0</td>\n",
              "      <td>9.0</td>\n",
              "      <td>7100</td>\n",
              "      <td>28</td>\n",
              "      <td>NaN</td>\n",
              "      <td>83.0</td>\n",
              "      <td>2730 ARTHUR KILL ROAD</td>\n",
              "      <td>...</td>\n",
              "      <td>7</td>\n",
              "      <td>208033.0</td>\n",
              "      <td>64117.0</td>\n",
              "      <td>2001</td>\n",
              "      <td>4</td>\n",
              "      <td>83.0</td>\n",
              "      <td>11693337.0</td>\n",
              "      <td>2016-12-21</td>\n",
              "      <td>2016</td>\n",
              "      <td>12</td>\n",
              "    </tr>\n",
              "    <tr>\n",
              "      <th>84547</th>\n",
              "      <td>8413</td>\n",
              "      <td>5</td>\n",
              "      <td>251.0</td>\n",
              "      <td>32.0</td>\n",
              "      <td>9.0</td>\n",
              "      <td>7105</td>\n",
              "      <td>679</td>\n",
              "      <td>NaN</td>\n",
              "      <td>112.0</td>\n",
              "      <td>155 CLAY PIT ROAD</td>\n",
              "      <td>...</td>\n",
              "      <td>1</td>\n",
              "      <td>10796.0</td>\n",
              "      <td>2400.0</td>\n",
              "      <td>2006</td>\n",
              "      <td>4</td>\n",
              "      <td>112.0</td>\n",
              "      <td>69300.0</td>\n",
              "      <td>2016-10-27</td>\n",
              "      <td>2016</td>\n",
              "      <td>10</td>\n",
              "    </tr>\n",
              "  </tbody>\n",
              "</table>\n",
              "<p>5 rows × 24 columns</p>\n",
              "</div>\n",
              "      <button class=\"colab-df-convert\" onclick=\"convertToInteractive('df-a16a5ae1-ac0b-4165-9784-645d3bd2f612')\"\n",
              "              title=\"Convert this dataframe to an interactive table.\"\n",
              "              style=\"display:none;\">\n",
              "        \n",
              "  <svg xmlns=\"http://www.w3.org/2000/svg\" height=\"24px\"viewBox=\"0 0 24 24\"\n",
              "       width=\"24px\">\n",
              "    <path d=\"M0 0h24v24H0V0z\" fill=\"none\"/>\n",
              "    <path d=\"M18.56 5.44l.94 2.06.94-2.06 2.06-.94-2.06-.94-.94-2.06-.94 2.06-2.06.94zm-11 1L8.5 8.5l.94-2.06 2.06-.94-2.06-.94L8.5 2.5l-.94 2.06-2.06.94zm10 10l.94 2.06.94-2.06 2.06-.94-2.06-.94-.94-2.06-.94 2.06-2.06.94z\"/><path d=\"M17.41 7.96l-1.37-1.37c-.4-.4-.92-.59-1.43-.59-.52 0-1.04.2-1.43.59L10.3 9.45l-7.72 7.72c-.78.78-.78 2.05 0 2.83L4 21.41c.39.39.9.59 1.41.59.51 0 1.02-.2 1.41-.59l7.78-7.78 2.81-2.81c.8-.78.8-2.07 0-2.86zM5.41 20L4 18.59l7.72-7.72 1.47 1.35L5.41 20z\"/>\n",
              "  </svg>\n",
              "      </button>\n",
              "      \n",
              "  <style>\n",
              "    .colab-df-container {\n",
              "      display:flex;\n",
              "      flex-wrap:wrap;\n",
              "      gap: 12px;\n",
              "    }\n",
              "\n",
              "    .colab-df-convert {\n",
              "      background-color: #E8F0FE;\n",
              "      border: none;\n",
              "      border-radius: 50%;\n",
              "      cursor: pointer;\n",
              "      display: none;\n",
              "      fill: #1967D2;\n",
              "      height: 32px;\n",
              "      padding: 0 0 0 0;\n",
              "      width: 32px;\n",
              "    }\n",
              "\n",
              "    .colab-df-convert:hover {\n",
              "      background-color: #E2EBFA;\n",
              "      box-shadow: 0px 1px 2px rgba(60, 64, 67, 0.3), 0px 1px 3px 1px rgba(60, 64, 67, 0.15);\n",
              "      fill: #174EA6;\n",
              "    }\n",
              "\n",
              "    [theme=dark] .colab-df-convert {\n",
              "      background-color: #3B4455;\n",
              "      fill: #D2E3FC;\n",
              "    }\n",
              "\n",
              "    [theme=dark] .colab-df-convert:hover {\n",
              "      background-color: #434B5C;\n",
              "      box-shadow: 0px 1px 3px 1px rgba(0, 0, 0, 0.15);\n",
              "      filter: drop-shadow(0px 1px 2px rgba(0, 0, 0, 0.3));\n",
              "      fill: #FFFFFF;\n",
              "    }\n",
              "  </style>\n",
              "\n",
              "      <script>\n",
              "        const buttonEl =\n",
              "          document.querySelector('#df-a16a5ae1-ac0b-4165-9784-645d3bd2f612 button.colab-df-convert');\n",
              "        buttonEl.style.display =\n",
              "          google.colab.kernel.accessAllowed ? 'block' : 'none';\n",
              "\n",
              "        async function convertToInteractive(key) {\n",
              "          const element = document.querySelector('#df-a16a5ae1-ac0b-4165-9784-645d3bd2f612');\n",
              "          const dataTable =\n",
              "            await google.colab.kernel.invokeFunction('convertToInteractive',\n",
              "                                                     [key], {});\n",
              "          if (!dataTable) return;\n",
              "\n",
              "          const docLinkHtml = 'Like what you see? Visit the ' +\n",
              "            '<a target=\"_blank\" href=https://colab.research.google.com/notebooks/data_table.ipynb>data table notebook</a>'\n",
              "            + ' to learn more about interactive tables.';\n",
              "          element.innerHTML = '';\n",
              "          dataTable['output_type'] = 'display_data';\n",
              "          await google.colab.output.renderOutput(dataTable, element);\n",
              "          const docLink = document.createElement('div');\n",
              "          docLink.innerHTML = docLinkHtml;\n",
              "          element.appendChild(docLink);\n",
              "        }\n",
              "      </script>\n",
              "    </div>\n",
              "  </div>\n",
              "  "
            ]
          },
          "metadata": {},
          "execution_count": 313
        }
      ]
    },
    {
      "cell_type": "markdown",
      "source": [
        "# Outliers Handling"
      ],
      "metadata": {
        "id": "_dNRUh_LTaQD"
      }
    },
    {
      "cell_type": "markdown",
      "source": [
        "SALE PRICE Outliers"
      ],
      "metadata": {
        "id": "WHv0oxBuSoIO"
      }
    },
    {
      "cell_type": "markdown",
      "source": [
        "As mention in the dataset documentation, sale price 0 indicates the property transfer transactions. So we will remove the 0 values."
      ],
      "metadata": {
        "id": "T1SJjF0wqlY3"
      }
    },
    {
      "cell_type": "code",
      "source": [
        "dataset.drop(dataset[dataset['SALE PRICE']==0].index,axis=0,inplace=True)"
      ],
      "metadata": {
        "id": "MQtJult5qkip"
      },
      "execution_count": null,
      "outputs": []
    },
    {
      "cell_type": "code",
      "source": [
        "sns.set_style('whitegrid')\n",
        "sns.set(rc = {'figure.figsize':(12,6)})\n",
        "sns.boxplot(x='SALE PRICE',data=dataset)\n",
        "plt.title('Sell Price in USD')\n",
        "plt.ticklabel_format(style='plain', axis='x')\n",
        "plt.show()"
      ],
      "metadata": {
        "id": "ZXpK7aV9TioC",
        "colab": {
          "base_uri": "https://localhost:8080/",
          "height": 410
        },
        "outputId": "3e2c0a07-c31e-46f7-a20c-fc69ac9cdb80"
      },
      "execution_count": null,
      "outputs": [
        {
          "output_type": "display_data",
          "data": {
            "text/plain": [
              "<Figure size 864x432 with 1 Axes>"
            ],
            "image/png": "[encoded data removed]"
          },
          "metadata": {}
        }
      ]
    },
    {
      "cell_type": "markdown",
      "source": [
        "Find outliers using IQR"
      ],
      "metadata": {
        "id": "l7-_wOMTZiZJ"
      }
    },
    {
      "cell_type": "code",
      "source": [
        "def IQR_Calculator(column_name):\n",
        "  Q1 = dataset[column_name].quantile(0.25)\n",
        "  Q3 = dataset[column_name].quantile(0.75)\n",
        "  IQR = Q3-Q1\n",
        "  lower_limit = Q1 - 1.5*IQR\n",
        "  upper_limit = Q3 + 1.5*IQR\n",
        "\n",
        "  outliers_idx = dataset[(dataset[column_name]<lower_limit) | (dataset[column_name]>upper_limit)].index\n",
        "  return outliers_idx"
      ],
      "metadata": {
        "id": "QGVIYrNhcwF4"
      },
      "execution_count": null,
      "outputs": []
    },
    {
      "cell_type": "code",
      "source": [
        "outliers_idx = IQR_Calculator('SALE PRICE')"
      ],
      "metadata": {
        "id": "-8w4hiKbdLrB"
      },
      "execution_count": null,
      "outputs": []
    },
    {
      "cell_type": "markdown",
      "source": [
        "Remove Outliers"
      ],
      "metadata": {
        "id": "epxWv8D3_VO_"
      }
    },
    {
      "cell_type": "code",
      "source": [
        "dataset.drop(outliers_idx,axis=0,inplace=True)"
      ],
      "metadata": {
        "id": "4wJetQH9YFNi"
      },
      "execution_count": null,
      "outputs": []
    },
    {
      "cell_type": "code",
      "source": [
        "sns.set_style('whitegrid')\n",
        "sns.set(rc = {'figure.figsize':(12,6)})\n",
        "sns.boxplot(x='SALE PRICE',data= dataset)\n",
        "plt.title('Sell Price in USD')\n",
        "plt.ticklabel_format(style='plain', axis='x')\n",
        "plt.show()"
      ],
      "metadata": {
        "colab": {
          "base_uri": "https://localhost:8080/",
          "height": 410
        },
        "id": "h3KGCyucagOc",
        "outputId": "19f52b93-3565-4132-c920-aaf939dedba9"
      },
      "execution_count": null,
      "outputs": [
        {
          "output_type": "display_data",
          "data": {
            "text/plain": [
              "<Figure size 864x432 with 1 Axes>"
            ],
            "image/png": "[encoded data removed]"
          },
          "metadata": {}
        }
      ]
    },
    {
      "cell_type": "code",
      "source": [
        "sns.histplot(dataset['SALE PRICE'],kde=True)\n",
        "plt.title('Sell Price in USD')\n",
        "plt.ticklabel_format(style='plain', axis='x')\n",
        "plt.show()"
      ],
      "metadata": {
        "colab": {
          "base_uri": "https://localhost:8080/",
          "height": 410
        },
        "id": "m7nQR_bR98sN",
        "outputId": "892850be-fd1a-4f01-eef1-c189c4c52f71"
      },
      "execution_count": null,
      "outputs": [
        {
          "output_type": "display_data",
          "data": {
            "text/plain": [
              "<Figure size 864x432 with 1 Axes>"
            ],
            "image/png": "[encoded data removed]"
          },
          "metadata": {}
        }
      ]
    },
    {
      "cell_type": "markdown",
      "source": [
        "Here we can see, many transaction under 100000 dollar which is seem so cheap and not fair. So we will cosider this as outliers and remove it."
      ],
      "metadata": {
        "id": "fUrE-XCM2RpO"
      }
    },
    {
      "cell_type": "code",
      "source": [
        "dataset.drop(dataset[dataset['SALE PRICE']<100000].index,axis=0,inplace=True)"
      ],
      "metadata": {
        "id": "rj77LBq72O9u"
      },
      "execution_count": null,
      "outputs": []
    },
    {
      "cell_type": "code",
      "source": [
        "sns.histplot(dataset['SALE PRICE'],kde=True)\n",
        "plt.title('Sell Price in USD')\n",
        "plt.ticklabel_format(style='plain', axis='x')\n",
        "plt.show()"
      ],
      "metadata": {
        "colab": {
          "base_uri": "https://localhost:8080/",
          "height": 410
        },
        "id": "HTeYtcH32Oq2",
        "outputId": "f4aeded8-1bcb-4ff0-fa8f-bf61e61abbd4"
      },
      "execution_count": null,
      "outputs": [
        {
          "output_type": "display_data",
          "data": {
            "text/plain": [
              "<Figure size 864x432 with 1 Axes>"
            ],
            "image/png": "[encoded data removed]"
          },
          "metadata": {}
        }
      ]
    },
    {
      "cell_type": "markdown",
      "source": [
        "LAND SQUARE FEET Outliers"
      ],
      "metadata": {
        "id": "P-CXoqz9ZnxW"
      }
    },
    {
      "cell_type": "code",
      "source": [
        "sns.set_style('whitegrid')\n",
        "sns.set(rc = {'figure.figsize':(12,6)})\n",
        "sns.boxplot(x='LAND SQUARE FEET',data=dataset)\n",
        "plt.title('LAND SQUARE FEET')\n",
        "plt.ticklabel_format(style='plain', axis='x')\n",
        "plt.show()"
      ],
      "metadata": {
        "colab": {
          "base_uri": "https://localhost:8080/",
          "height": 410
        },
        "id": "CmXyaM6cUvYc",
        "outputId": "bc04b93e-e563-44bc-df0b-b207c17270fe"
      },
      "execution_count": null,
      "outputs": [
        {
          "output_type": "display_data",
          "data": {
            "text/plain": [
              "<Figure size 864x432 with 1 Axes>"
            ],
            "image/png": "[encoded data removed]"
          },
          "metadata": {}
        }
      ]
    },
    {
      "cell_type": "markdown",
      "source": [
        "Find outliers using IQR"
      ],
      "metadata": {
        "id": "FL0YrB7Icnka"
      }
    },
    {
      "cell_type": "code",
      "source": [
        "landSqfeet_outliers_idx = IQR_Calculator('LAND SQUARE FEET')"
      ],
      "metadata": {
        "id": "dgdmT0hSckE4"
      },
      "execution_count": null,
      "outputs": []
    },
    {
      "cell_type": "markdown",
      "source": [
        "Remove Outliers"
      ],
      "metadata": {
        "id": "fg3yG2W9fQJx"
      }
    },
    {
      "cell_type": "code",
      "source": [
        "dataset.drop(landSqfeet_outliers_idx,axis=0,inplace=True)"
      ],
      "metadata": {
        "id": "ss802U8ncj55"
      },
      "execution_count": null,
      "outputs": []
    },
    {
      "cell_type": "code",
      "source": [
        "sns.set_style('whitegrid')\n",
        "sns.set(rc = {'figure.figsize':(12,6)})\n",
        "sns.boxplot(x='LAND SQUARE FEET',data=dataset)\n",
        "plt.title('LAND SQUARE FEET')\n",
        "plt.ticklabel_format(style='plain', axis='x')\n",
        "plt.show()"
      ],
      "metadata": {
        "colab": {
          "base_uri": "https://localhost:8080/",
          "height": 410
        },
        "id": "0W8U1OUCcjrP",
        "outputId": "92cad3cc-0143-4755-af0e-25333a88d94b"
      },
      "execution_count": null,
      "outputs": [
        {
          "output_type": "display_data",
          "data": {
            "text/plain": [
              "<Figure size 864x432 with 1 Axes>"
            ],
            "image/png": "[encoded data removed]"
          },
          "metadata": {}
        }
      ]
    },
    {
      "cell_type": "code",
      "source": [
        "sns.histplot(dataset['LAND SQUARE FEET'])\n",
        "plt.title('LAND SQUARE FEETD')\n",
        "plt.ticklabel_format(style='plain', axis='x')\n",
        "plt.show()"
      ],
      "metadata": {
        "colab": {
          "base_uri": "https://localhost:8080/",
          "height": 410
        },
        "id": "Wp-xjjLOcjCH",
        "outputId": "856b12b7-8d3f-4bb9-86eb-42785479cda5"
      },
      "execution_count": null,
      "outputs": [
        {
          "output_type": "display_data",
          "data": {
            "text/plain": [
              "<Figure size 864x432 with 1 Axes>"
            ],
            "image/png": "[encoded data removed]"
          },
          "metadata": {}
        }
      ]
    },
    {
      "cell_type": "markdown",
      "source": [
        "GROSS SQUARE FEET"
      ],
      "metadata": {
        "id": "CKoMAVMQiB-A"
      }
    },
    {
      "cell_type": "code",
      "source": [
        "sns.set_style('whitegrid')\n",
        "sns.set(rc = {'figure.figsize':(12,6)})\n",
        "sns.boxplot(x='GROSS SQUARE FEET',data=dataset)\n",
        "plt.title('GROSS SQUARE FEET')\n",
        "plt.ticklabel_format(style='plain', axis='x')\n",
        "plt.show()"
      ],
      "metadata": {
        "colab": {
          "base_uri": "https://localhost:8080/",
          "height": 410
        },
        "id": "XlXeLHnFh7CG",
        "outputId": "14aa28c2-d7c5-4b1d-bafc-9333934ebb4d"
      },
      "execution_count": null,
      "outputs": [
        {
          "output_type": "display_data",
          "data": {
            "text/plain": [
              "<Figure size 864x432 with 1 Axes>"
            ],
            "image/png": "[encoded data removed]"
          },
          "metadata": {}
        }
      ]
    },
    {
      "cell_type": "markdown",
      "source": [
        "Find outliers using IQR"
      ],
      "metadata": {
        "id": "nT9Qjn_R3TsO"
      }
    },
    {
      "cell_type": "code",
      "source": [
        "grossSqFeet_Outliers_idx = IQR_Calculator('GROSS SQUARE FEET')"
      ],
      "metadata": {
        "id": "f5DB1wKBiNeu"
      },
      "execution_count": null,
      "outputs": []
    },
    {
      "cell_type": "code",
      "source": [
        "dataset.drop(grossSqFeet_Outliers_idx,axis=0,inplace=True)"
      ],
      "metadata": {
        "id": "2u3PWkZxiNPe"
      },
      "execution_count": null,
      "outputs": []
    },
    {
      "cell_type": "code",
      "source": [
        "sns.set_style('whitegrid')\n",
        "sns.set(rc = {'figure.figsize':(12,6)})\n",
        "sns.boxplot(x='GROSS SQUARE FEET',data=dataset)\n",
        "plt.title('GROSS SQUARE FEET')\n",
        "plt.ticklabel_format(style='plain', axis='x')\n",
        "plt.show()"
      ],
      "metadata": {
        "id": "0rME7OVkiM9y",
        "colab": {
          "base_uri": "https://localhost:8080/",
          "height": 410
        },
        "outputId": "4afeb1eb-4299-4c4e-9ce8-58ce6891f475"
      },
      "execution_count": null,
      "outputs": [
        {
          "output_type": "display_data",
          "data": {
            "text/plain": [
              "<Figure size 864x432 with 1 Axes>"
            ],
            "image/png": "[encoded data removed]"
          },
          "metadata": {}
        }
      ]
    },
    {
      "cell_type": "code",
      "source": [
        "sns.histplot(dataset['GROSS SQUARE FEET'])\n",
        "plt.title('GROSS SQUARE FEET')\n",
        "plt.ticklabel_format(style='plain', axis='x')\n",
        "plt.show()"
      ],
      "metadata": {
        "colab": {
          "base_uri": "https://localhost:8080/",
          "height": 410
        },
        "id": "qDT2dhPm3hdH",
        "outputId": "3f48d60e-9395-4376-98ed-c42c9dc8089e"
      },
      "execution_count": null,
      "outputs": [
        {
          "output_type": "display_data",
          "data": {
            "text/plain": [
              "<Figure size 864x432 with 1 Axes>"
            ],
            "image/png": "[encoded data removed]"
          },
          "metadata": {}
        }
      ]
    },
    {
      "cell_type": "code",
      "source": [
        ""
      ],
      "metadata": {
        "id": "0mSJd-SOXYJx"
      },
      "execution_count": null,
      "outputs": []
    },
    {
      "cell_type": "markdown",
      "source": [
        "Drop rows where LAND SQUARE FEET and GROSS SQUARE FEET are 0."
      ],
      "metadata": {
        "id": "EVPH9wr7qBEo"
      }
    },
    {
      "cell_type": "code",
      "source": [
        "#zero_idx = dataset[(dataset['LAND SQUARE FEET']==0) & (dataset['GROSS SQUARE FEET']==0)].index\n",
        "#dataset.drop(zero_idx,axis=0,inplace=True)"
      ],
      "metadata": {
        "id": "2bWmnGQCXX6M"
      },
      "execution_count": null,
      "outputs": []
    },
    {
      "cell_type": "markdown",
      "source": [
        "# Missing Value Handeling\n"
      ],
      "metadata": {
        "id": "hBAiYSAapWdk"
      }
    },
    {
      "cell_type": "code",
      "source": [
        "dataset.isnull().sum()"
      ],
      "metadata": {
        "id": "4lUe9PUl86Ef",
        "colab": {
          "base_uri": "https://localhost:8080/"
        },
        "outputId": "cb898cb5-058d-4900-bd57-b89a57a286cd"
      },
      "execution_count": null,
      "outputs": [
        {
          "output_type": "execute_result",
          "data": {
            "text/plain": [
              "Unnamed: 0                            0\n",
              "BOROUGH                               0\n",
              "NEIGHBORHOOD                          0\n",
              "BUILDING CLASS CATEGORY               0\n",
              "TAX CLASS AT PRESENT                476\n",
              "BLOCK                                 0\n",
              "LOT                                   0\n",
              "EASE-MENT                         61808\n",
              "BUILDING CLASS AT PRESENT           476\n",
              "ADDRESS                               0\n",
              "APARTMENT NUMBER                  48273\n",
              "ZIP CODE                              0\n",
              "RESIDENTIAL UNITS                     0\n",
              "COMMERCIAL UNITS                      0\n",
              "TOTAL UNITS                           0\n",
              "LAND SQUARE FEET                  22270\n",
              "GROSS SQUARE FEET                 23272\n",
              "YEAR BUILT                            0\n",
              "TAX CLASS AT TIME OF SALE             0\n",
              "BUILDING CLASS AT TIME OF SALE        0\n",
              "SALE PRICE                        12943\n",
              "SALE DATE                             0\n",
              "SALE YEAR                             0\n",
              "SALE MONTH                            0\n",
              "dtype: int64"
            ]
          },
          "metadata": {},
          "execution_count": 334
        }
      ]
    },
    {
      "cell_type": "code",
      "source": [
        "round(dataset.isnull().sum()*100/len(dataset),2)"
      ],
      "metadata": {
        "colab": {
          "base_uri": "https://localhost:8080/"
        },
        "id": "GSmEV6Oa9WVQ",
        "outputId": "06df1a5a-7ddd-49cd-fcae-e903d75e7f1e"
      },
      "execution_count": null,
      "outputs": [
        {
          "output_type": "execute_result",
          "data": {
            "text/plain": [
              "Unnamed: 0                          0.00\n",
              "BOROUGH                             0.00\n",
              "NEIGHBORHOOD                        0.00\n",
              "BUILDING CLASS CATEGORY             0.00\n",
              "TAX CLASS AT PRESENT                0.77\n",
              "BLOCK                               0.00\n",
              "LOT                                 0.00\n",
              "EASE-MENT                         100.00\n",
              "BUILDING CLASS AT PRESENT           0.77\n",
              "ADDRESS                             0.00\n",
              "APARTMENT NUMBER                   78.10\n",
              "ZIP CODE                            0.00\n",
              "RESIDENTIAL UNITS                   0.00\n",
              "COMMERCIAL UNITS                    0.00\n",
              "TOTAL UNITS                         0.00\n",
              "LAND SQUARE FEET                   36.03\n",
              "GROSS SQUARE FEET                  37.65\n",
              "YEAR BUILT                          0.00\n",
              "TAX CLASS AT TIME OF SALE           0.00\n",
              "BUILDING CLASS AT TIME OF SALE      0.00\n",
              "SALE PRICE                         20.94\n",
              "SALE DATE                           0.00\n",
              "SALE YEAR                           0.00\n",
              "SALE MONTH                          0.00\n",
              "dtype: float64"
            ]
          },
          "metadata": {},
          "execution_count": 335
        }
      ]
    },
    {
      "cell_type": "code",
      "source": [
        "sns.set(rc = {'figure.figsize':(12,6)})\n",
        "sns.heatmap(dataset.isnull(),cbar=False)"
      ],
      "metadata": {
        "colab": {
          "base_uri": "https://localhost:8080/",
          "height": 578
        },
        "id": "pdCJAFQcsuk5",
        "outputId": "ff019b15-9b2f-4342-adaa-89a70ef66b85"
      },
      "execution_count": null,
      "outputs": [
        {
          "output_type": "execute_result",
          "data": {
            "text/plain": [
              "<matplotlib.axes._subplots.AxesSubplot at 0x7f1c17702c50>"
            ]
          },
          "metadata": {},
          "execution_count": 336
        },
        {
          "output_type": "display_data",
          "data": {
            "text/plain": [
              "<Figure size 864x432 with 1 Axes>"
            ],
            "image/png": "[encoded data removed]"
          },
          "metadata": {}
        }
      ]
    },
    {
      "cell_type": "code",
      "source": [
        "nan_col = dataset.columns[dataset.isnull().any()]\n",
        "data = round(dataset[nan_col].isnull().sum()*100/len(dataset),2)\n",
        "data.plot(kind='barh')"
      ],
      "metadata": {
        "colab": {
          "base_uri": "https://localhost:8080/",
          "height": 354
        },
        "id": "sOGZ9c-Svn46",
        "outputId": "907165a4-161f-46e7-cc4e-064dc2869f2b"
      },
      "execution_count": null,
      "outputs": [
        {
          "output_type": "execute_result",
          "data": {
            "text/plain": [
              "<matplotlib.axes._subplots.AxesSubplot at 0x7f1c176de110>"
            ]
          },
          "metadata": {},
          "execution_count": 337
        },
        {
          "output_type": "display_data",
          "data": {
            "text/plain": [
              "<Figure size 864x432 with 1 Axes>"
            ],
            "image/png": "[encoded data removed]"
          },
          "metadata": {}
        }
      ]
    },
    {
      "cell_type": "markdown",
      "source": [
        "Here 100% of BASE-MENT data and around 77% of APARTMENT NUMBER data are missing. It is quite difficult to fill up this amount of data. \n",
        "Also, the name: 0 column does not indicate anything exactly. So, we will drop these columns."
      ],
      "metadata": {
        "id": "TErQQYT21u2G"
      }
    },
    {
      "cell_type": "code",
      "source": [
        "dataset.drop(['Unnamed: 0','EASE-MENT','APARTMENT NUMBER'],axis=1,inplace=True,)"
      ],
      "metadata": {
        "id": "ptY9WsZU_FA5"
      },
      "execution_count": null,
      "outputs": []
    },
    {
      "cell_type": "markdown",
      "source": [
        "Drop the row where 'TAX CLASS AT PRESENT' and 'BUILDING CLASS AT PRESENT' are null."
      ],
      "metadata": {
        "id": "vodQpZS_k3SC"
      }
    },
    {
      "cell_type": "code",
      "source": [
        "dataset.dropna(subset=['TAX CLASS AT PRESENT','BUILDING CLASS AT PRESENT'],inplace=True)"
      ],
      "metadata": {
        "id": "1wzsZkRmk2Wg"
      },
      "execution_count": null,
      "outputs": []
    },
    {
      "cell_type": "markdown",
      "source": [
        "Drop the row where 'LAND SQUARE FEET', 'GROSS SQUARE FEET' and 'SALE PRICE' both are null. "
      ],
      "metadata": {
        "id": "A9EXkixAVEhR"
      }
    },
    {
      "cell_type": "code",
      "source": [
        "dataset.dropna(subset=['LAND SQUARE FEET','GROSS SQUARE FEET','SALE PRICE'],thresh=1,inplace=True)"
      ],
      "metadata": {
        "id": "e0aDGott9U0Y"
      },
      "execution_count": null,
      "outputs": []
    },
    {
      "cell_type": "code",
      "source": [
        "nan_col = dataset.columns[dataset.isnull().any()]\n",
        "round(dataset[nan_col].isnull().sum()*100/len(dataset),2)"
      ],
      "metadata": {
        "colab": {
          "base_uri": "https://localhost:8080/"
        },
        "id": "uAyDlnWHWvxB",
        "outputId": "0b41509e-4770-4273-b5c2-97b7af30945e"
      },
      "execution_count": null,
      "outputs": [
        {
          "output_type": "execute_result",
          "data": {
            "text/plain": [
              "LAND SQUARE FEET     30.24\n",
              "GROSS SQUARE FEET    32.02\n",
              "SALE PRICE           13.99\n",
              "dtype: float64"
            ]
          },
          "metadata": {},
          "execution_count": 341
        }
      ]
    },
    {
      "cell_type": "code",
      "source": [
        "nan_col = dataset.columns[dataset.isnull().any()]\n",
        "data = round(dataset[nan_col].isnull().sum()*100/len(dataset),2)\n",
        "data.plot(kind='barh')"
      ],
      "metadata": {
        "id": "5AeU4oUVNi-o",
        "colab": {
          "base_uri": "https://localhost:8080/",
          "height": 371
        },
        "outputId": "d765d734-3a08-4e14-ec0b-3aee23dfb6be"
      },
      "execution_count": null,
      "outputs": [
        {
          "output_type": "execute_result",
          "data": {
            "text/plain": [
              "<matplotlib.axes._subplots.AxesSubplot at 0x7f1c169eae10>"
            ]
          },
          "metadata": {},
          "execution_count": 342
        },
        {
          "output_type": "display_data",
          "data": {
            "text/plain": [
              "<Figure size 864x432 with 1 Axes>"
            ],
            "image/png": "[encoded data removed]"
          },
          "metadata": {}
        }
      ]
    },
    {
      "cell_type": "markdown",
      "source": [
        "Remove rows where TOTAL UNITS 0 and SALE PRICE is null."
      ],
      "metadata": {
        "id": "nY01OhLMUa3i"
      }
    },
    {
      "cell_type": "code",
      "source": [
        "zero_units_idx = dataset[(dataset['TOTAL UNITS']==0) & (dataset['SALE PRICE'].isnull())].index\n",
        "dataset.drop(zero_units_idx,axis=0,inplace=True)"
      ],
      "metadata": {
        "id": "tk_Y3TkcOqIR"
      },
      "execution_count": null,
      "outputs": []
    },
    {
      "cell_type": "markdown",
      "source": [
        "Remove rows where RESIDENTIAL UNITS + COMMERCIAL UNITS is not equal TOTAL UNITS"
      ],
      "metadata": {
        "id": "gZIMs1cQWU4W"
      }
    },
    {
      "cell_type": "code",
      "source": [
        "unit_idx = dataset[dataset['RESIDENTIAL UNITS'] + dataset['COMMERCIAL UNITS'] != dataset['TOTAL UNITS']].index\n",
        "dataset.drop(unit_idx,axis=0,inplace=True)"
      ],
      "metadata": {
        "id": "Qg2IotydWj1P"
      },
      "execution_count": null,
      "outputs": []
    },
    {
      "cell_type": "code",
      "source": [
        "round(dataset.isnull().sum()*100/len(dataset),2)"
      ],
      "metadata": {
        "colab": {
          "base_uri": "https://localhost:8080/"
        },
        "id": "7p1shVzT-ZuC",
        "outputId": "7944fec1-fc9c-49fc-a740-081a1df65cda"
      },
      "execution_count": null,
      "outputs": [
        {
          "output_type": "execute_result",
          "data": {
            "text/plain": [
              "BOROUGH                            0.00\n",
              "NEIGHBORHOOD                       0.00\n",
              "BUILDING CLASS CATEGORY            0.00\n",
              "TAX CLASS AT PRESENT               0.00\n",
              "BLOCK                              0.00\n",
              "LOT                                0.00\n",
              "BUILDING CLASS AT PRESENT          0.00\n",
              "ADDRESS                            0.00\n",
              "ZIP CODE                           0.00\n",
              "RESIDENTIAL UNITS                  0.00\n",
              "COMMERCIAL UNITS                   0.00\n",
              "TOTAL UNITS                        0.00\n",
              "LAND SQUARE FEET                  30.40\n",
              "GROSS SQUARE FEET                 31.09\n",
              "YEAR BUILT                         0.00\n",
              "TAX CLASS AT TIME OF SALE          0.00\n",
              "BUILDING CLASS AT TIME OF SALE     0.00\n",
              "SALE PRICE                        13.09\n",
              "SALE DATE                          0.00\n",
              "SALE YEAR                          0.00\n",
              "SALE MONTH                         0.00\n",
              "dtype: float64"
            ]
          },
          "metadata": {},
          "execution_count": 345
        }
      ]
    },
    {
      "cell_type": "markdown",
      "source": [
        "###Fill the missing values with predictions of model"
      ],
      "metadata": {
        "id": "xlNeUzn7ATHt"
      }
    },
    {
      "cell_type": "markdown",
      "source": [
        "Create a function for filling the multiple columns missing values"
      ],
      "metadata": {
        "id": "4SEPD_Q7YR3-"
      }
    },
    {
      "cell_type": "code",
      "source": [
        "def fill_nan(column_name,testData,nan_index):\n",
        "  #Training Data\n",
        "  trainData = dataset.dropna()\n",
        "  trainData = trainData.drop(['NEIGHBORHOOD','BUILDING CLASS CATEGORY','ADDRESS','SALE DATE'],axis=1)\n",
        "  \n",
        "  #split train and test data\n",
        "  x_train = trainData.drop(column_name,axis=1)\n",
        "  y_train = trainData[column_name]\n",
        "  x_test = testData.drop(column_name,axis=1)\n",
        "\n",
        "  #Build LinearRegression Model\n",
        "  lrModel = LinearRegression()\n",
        "  lrModel.fit(x_train,y_train)\n",
        "  prediction = lrModel.predict(x_test)\n",
        "\n",
        "  #convert prediction values to float\n",
        "  pred_values=[]\n",
        "  for item in prediction:\n",
        "    pred_values.append(format(item,'.1f'))\n",
        "\n",
        "  # fill missing values with the new predicted values\n",
        "  dataset.loc[nan_index,column_name] = pred_values"
      ],
      "metadata": {
        "id": "r4mDUQc9YQ_A"
      },
      "execution_count": null,
      "outputs": []
    },
    {
      "cell_type": "markdown",
      "source": [
        "####Fill SALE PRICE missing values"
      ],
      "metadata": {
        "id": "Cnp__X16Xgrj"
      }
    },
    {
      "cell_type": "code",
      "source": [
        "testData = dataset[dataset['LAND SQUARE FEET'].notnull() & dataset['GROSS SQUARE FEET'].notnull() & dataset['SALE PRICE'].isnull()]\n",
        "testData = testData.drop(['NEIGHBORHOOD','BUILDING CLASS CATEGORY','ADDRESS','SALE DATE'],axis=1)\n",
        "nan_price_idx = testData.index"
      ],
      "metadata": {
        "id": "rEMIY3JQAbp7"
      },
      "execution_count": null,
      "outputs": []
    },
    {
      "cell_type": "code",
      "source": [
        "fill_nan('SALE PRICE',testData,nan_price_idx)"
      ],
      "metadata": {
        "id": "UHYMOiggbaAm"
      },
      "execution_count": null,
      "outputs": []
    },
    {
      "cell_type": "code",
      "source": [
        "dataset.isnull().sum()"
      ],
      "metadata": {
        "colab": {
          "base_uri": "https://localhost:8080/"
        },
        "id": "c7JfvsquaQYt",
        "outputId": "431b556b-fa8d-4ad0-f2af-9e18a7badaaa"
      },
      "execution_count": null,
      "outputs": [
        {
          "output_type": "execute_result",
          "data": {
            "text/plain": [
              "BOROUGH                               0\n",
              "NEIGHBORHOOD                          0\n",
              "BUILDING CLASS CATEGORY               0\n",
              "TAX CLASS AT PRESENT                  0\n",
              "BLOCK                                 0\n",
              "LOT                                   0\n",
              "BUILDING CLASS AT PRESENT             0\n",
              "ADDRESS                               0\n",
              "ZIP CODE                              0\n",
              "RESIDENTIAL UNITS                     0\n",
              "COMMERCIAL UNITS                      0\n",
              "TOTAL UNITS                           0\n",
              "LAND SQUARE FEET                  16841\n",
              "GROSS SQUARE FEET                 17221\n",
              "YEAR BUILT                            0\n",
              "TAX CLASS AT TIME OF SALE             0\n",
              "BUILDING CLASS AT TIME OF SALE        0\n",
              "SALE PRICE                           50\n",
              "SALE DATE                             0\n",
              "SALE YEAR                             0\n",
              "SALE MONTH                            0\n",
              "dtype: int64"
            ]
          },
          "metadata": {},
          "execution_count": 349
        }
      ]
    },
    {
      "cell_type": "code",
      "source": [
        "dataset.dropna(inplace =True)"
      ],
      "metadata": {
        "id": "6K1TR0dIfjRQ"
      },
      "execution_count": null,
      "outputs": []
    },
    {
      "cell_type": "code",
      "source": [
        "dataset.head()"
      ],
      "metadata": {
        "colab": {
          "base_uri": "https://localhost:8080/",
          "height": 629
        },
        "id": "rNtBja0NghuL",
        "outputId": "980fe5de-aa51-4eb1-9106-f7e6afd1cd89"
      },
      "execution_count": null,
      "outputs": [
        {
          "output_type": "execute_result",
          "data": {
            "text/plain": [
              "    BOROUGH  NEIGHBORHOOD  BUILDING CLASS CATEGORY  TAX CLASS AT PRESENT  \\\n",
              "175       1           1.0                     14.0                   5.0   \n",
              "204       1          39.0                      0.0                   0.0   \n",
              "205       1          39.0                      0.0                   0.0   \n",
              "210       1          39.0                      1.0                   0.0   \n",
              "211       1          39.0                      1.0                   0.0   \n",
              "\n",
              "     BLOCK  LOT  BUILDING CLASS AT PRESENT                 ADDRESS  ZIP CODE  \\\n",
              "175    394    5                      141.0            183 AVENUE B     10009   \n",
              "204    766   13                        8.0  251 WEST 16TH   STREET     10011   \n",
              "205    766   13                        8.0  251 WEST 16TH   STREET     10011   \n",
              "210    743   61                       11.0    328 WEST 20TH STREET     10011   \n",
              "211    766   18                        9.0  241 WEST 16TH   STREET     10011   \n",
              "\n",
              "     RESIDENTIAL UNITS  ...  TOTAL UNITS  LAND SQUARE FEET  GROSS SQUARE FEET  \\\n",
              "175                  5  ...            6            1779.0             3713.0   \n",
              "204                  1  ...            1            1360.0             2736.0   \n",
              "205                  1  ...            1            1360.0             2736.0   \n",
              "210                  2  ...            2            1526.0             3168.0   \n",
              "211                  2  ...            2            2000.0             2520.0   \n",
              "\n",
              "     YEAR BUILT  TAX CLASS AT TIME OF SALE BUILDING CLASS AT TIME OF SALE  \\\n",
              "175        1910                          2                          141.0   \n",
              "204        1910                          1                            8.0   \n",
              "205        1910                          1                            8.0   \n",
              "210        1910                          1                           11.0   \n",
              "211        1901                          1                            9.0   \n",
              "\n",
              "     SALE PRICE  SALE DATE SALE YEAR  SALE MONTH  \n",
              "175   1249784.8 2017-04-03      2017           4  \n",
              "204    708246.8 2017-01-06      2017           1  \n",
              "205    702840.7 2016-10-20      2016          10  \n",
              "210    799063.5 2017-02-24      2017           2  \n",
              "211    728782.2 2017-03-28      2017           3  \n",
              "\n",
              "[5 rows x 21 columns]"
            ],
            "text/html": [
              "\n",
              "  <div id=\"df-c7d8beb4-1c66-424b-9819-be4d067668eb\">\n",
              "    <div class=\"colab-df-container\">\n",
              "      <div>\n",
              "<style scoped>\n",
              "    .dataframe tbody tr th:only-of-type {\n",
              "        vertical-align: middle;\n",
              "    }\n",
              "\n",
              "    .dataframe tbody tr th {\n",
              "        vertical-align: top;\n",
              "    }\n",
              "\n",
              "    .dataframe thead th {\n",
              "        text-align: right;\n",
              "    }\n",
              "</style>\n",
              "<table border=\"1\" class=\"dataframe\">\n",
              "  <thead>\n",
              "    <tr style=\"text-align: right;\">\n",
              "      <th></th>\n",
              "      <th>BOROUGH</th>\n",
              "      <th>NEIGHBORHOOD</th>\n",
              "      <th>BUILDING CLASS CATEGORY</th>\n",
              "      <th>TAX CLASS AT PRESENT</th>\n",
              "      <th>BLOCK</th>\n",
              "      <th>LOT</th>\n",
              "      <th>BUILDING CLASS AT PRESENT</th>\n",
              "      <th>ADDRESS</th>\n",
              "      <th>ZIP CODE</th>\n",
              "      <th>RESIDENTIAL UNITS</th>\n",
              "      <th>...</th>\n",
              "      <th>TOTAL UNITS</th>\n",
              "      <th>LAND SQUARE FEET</th>\n",
              "      <th>GROSS SQUARE FEET</th>\n",
              "      <th>YEAR BUILT</th>\n",
              "      <th>TAX CLASS AT TIME OF SALE</th>\n",
              "      <th>BUILDING CLASS AT TIME OF SALE</th>\n",
              "      <th>SALE PRICE</th>\n",
              "      <th>SALE DATE</th>\n",
              "      <th>SALE YEAR</th>\n",
              "      <th>SALE MONTH</th>\n",
              "    </tr>\n",
              "  </thead>\n",
              "  <tbody>\n",
              "    <tr>\n",
              "      <th>175</th>\n",
              "      <td>1</td>\n",
              "      <td>1.0</td>\n",
              "      <td>14.0</td>\n",
              "      <td>5.0</td>\n",
              "      <td>394</td>\n",
              "      <td>5</td>\n",
              "      <td>141.0</td>\n",
              "      <td>183 AVENUE B</td>\n",
              "      <td>10009</td>\n",
              "      <td>5</td>\n",
              "      <td>...</td>\n",
              "      <td>6</td>\n",
              "      <td>1779.0</td>\n",
              "      <td>3713.0</td>\n",
              "      <td>1910</td>\n",
              "      <td>2</td>\n",
              "      <td>141.0</td>\n",
              "      <td>1249784.8</td>\n",
              "      <td>2017-04-03</td>\n",
              "      <td>2017</td>\n",
              "      <td>4</td>\n",
              "    </tr>\n",
              "    <tr>\n",
              "      <th>204</th>\n",
              "      <td>1</td>\n",
              "      <td>39.0</td>\n",
              "      <td>0.0</td>\n",
              "      <td>0.0</td>\n",
              "      <td>766</td>\n",
              "      <td>13</td>\n",
              "      <td>8.0</td>\n",
              "      <td>251 WEST 16TH   STREET</td>\n",
              "      <td>10011</td>\n",
              "      <td>1</td>\n",
              "      <td>...</td>\n",
              "      <td>1</td>\n",
              "      <td>1360.0</td>\n",
              "      <td>2736.0</td>\n",
              "      <td>1910</td>\n",
              "      <td>1</td>\n",
              "      <td>8.0</td>\n",
              "      <td>708246.8</td>\n",
              "      <td>2017-01-06</td>\n",
              "      <td>2017</td>\n",
              "      <td>1</td>\n",
              "    </tr>\n",
              "    <tr>\n",
              "      <th>205</th>\n",
              "      <td>1</td>\n",
              "      <td>39.0</td>\n",
              "      <td>0.0</td>\n",
              "      <td>0.0</td>\n",
              "      <td>766</td>\n",
              "      <td>13</td>\n",
              "      <td>8.0</td>\n",
              "      <td>251 WEST 16TH   STREET</td>\n",
              "      <td>10011</td>\n",
              "      <td>1</td>\n",
              "      <td>...</td>\n",
              "      <td>1</td>\n",
              "      <td>1360.0</td>\n",
              "      <td>2736.0</td>\n",
              "      <td>1910</td>\n",
              "      <td>1</td>\n",
              "      <td>8.0</td>\n",
              "      <td>702840.7</td>\n",
              "      <td>2016-10-20</td>\n",
              "      <td>2016</td>\n",
              "      <td>10</td>\n",
              "    </tr>\n",
              "    <tr>\n",
              "      <th>210</th>\n",
              "      <td>1</td>\n",
              "      <td>39.0</td>\n",
              "      <td>1.0</td>\n",
              "      <td>0.0</td>\n",
              "      <td>743</td>\n",
              "      <td>61</td>\n",
              "      <td>11.0</td>\n",
              "      <td>328 WEST 20TH STREET</td>\n",
              "      <td>10011</td>\n",
              "      <td>2</td>\n",
              "      <td>...</td>\n",
              "      <td>2</td>\n",
              "      <td>1526.0</td>\n",
              "      <td>3168.0</td>\n",
              "      <td>1910</td>\n",
              "      <td>1</td>\n",
              "      <td>11.0</td>\n",
              "      <td>799063.5</td>\n",
              "      <td>2017-02-24</td>\n",
              "      <td>2017</td>\n",
              "      <td>2</td>\n",
              "    </tr>\n",
              "    <tr>\n",
              "      <th>211</th>\n",
              "      <td>1</td>\n",
              "      <td>39.0</td>\n",
              "      <td>1.0</td>\n",
              "      <td>0.0</td>\n",
              "      <td>766</td>\n",
              "      <td>18</td>\n",
              "      <td>9.0</td>\n",
              "      <td>241 WEST 16TH   STREET</td>\n",
              "      <td>10011</td>\n",
              "      <td>2</td>\n",
              "      <td>...</td>\n",
              "      <td>2</td>\n",
              "      <td>2000.0</td>\n",
              "      <td>2520.0</td>\n",
              "      <td>1901</td>\n",
              "      <td>1</td>\n",
              "      <td>9.0</td>\n",
              "      <td>728782.2</td>\n",
              "      <td>2017-03-28</td>\n",
              "      <td>2017</td>\n",
              "      <td>3</td>\n",
              "    </tr>\n",
              "  </tbody>\n",
              "</table>\n",
              "<p>5 rows × 21 columns</p>\n",
              "</div>\n",
              "      <button class=\"colab-df-convert\" onclick=\"convertToInteractive('df-c7d8beb4-1c66-424b-9819-be4d067668eb')\"\n",
              "              title=\"Convert this dataframe to an interactive table.\"\n",
              "              style=\"display:none;\">\n",
              "        \n",
              "  <svg xmlns=\"http://www.w3.org/2000/svg\" height=\"24px\"viewBox=\"0 0 24 24\"\n",
              "       width=\"24px\">\n",
              "    <path d=\"M0 0h24v24H0V0z\" fill=\"none\"/>\n",
              "    <path d=\"M18.56 5.44l.94 2.06.94-2.06 2.06-.94-2.06-.94-.94-2.06-.94 2.06-2.06.94zm-11 1L8.5 8.5l.94-2.06 2.06-.94-2.06-.94L8.5 2.5l-.94 2.06-2.06.94zm10 10l.94 2.06.94-2.06 2.06-.94-2.06-.94-.94-2.06-.94 2.06-2.06.94z\"/><path d=\"M17.41 7.96l-1.37-1.37c-.4-.4-.92-.59-1.43-.59-.52 0-1.04.2-1.43.59L10.3 9.45l-7.72 7.72c-.78.78-.78 2.05 0 2.83L4 21.41c.39.39.9.59 1.41.59.51 0 1.02-.2 1.41-.59l7.78-7.78 2.81-2.81c.8-.78.8-2.07 0-2.86zM5.41 20L4 18.59l7.72-7.72 1.47 1.35L5.41 20z\"/>\n",
              "  </svg>\n",
              "      </button>\n",
              "      \n",
              "  <style>\n",
              "    .colab-df-container {\n",
              "      display:flex;\n",
              "      flex-wrap:wrap;\n",
              "      gap: 12px;\n",
              "    }\n",
              "\n",
              "    .colab-df-convert {\n",
              "      background-color: #E8F0FE;\n",
              "      border: none;\n",
              "      border-radius: 50%;\n",
              "      cursor: pointer;\n",
              "      display: none;\n",
              "      fill: #1967D2;\n",
              "      height: 32px;\n",
              "      padding: 0 0 0 0;\n",
              "      width: 32px;\n",
              "    }\n",
              "\n",
              "    .colab-df-convert:hover {\n",
              "      background-color: #E2EBFA;\n",
              "      box-shadow: 0px 1px 2px rgba(60, 64, 67, 0.3), 0px 1px 3px 1px rgba(60, 64, 67, 0.15);\n",
              "      fill: #174EA6;\n",
              "    }\n",
              "\n",
              "    [theme=dark] .colab-df-convert {\n",
              "      background-color: #3B4455;\n",
              "      fill: #D2E3FC;\n",
              "    }\n",
              "\n",
              "    [theme=dark] .colab-df-convert:hover {\n",
              "      background-color: #434B5C;\n",
              "      box-shadow: 0px 1px 3px 1px rgba(0, 0, 0, 0.15);\n",
              "      filter: drop-shadow(0px 1px 2px rgba(0, 0, 0, 0.3));\n",
              "      fill: #FFFFFF;\n",
              "    }\n",
              "  </style>\n",
              "\n",
              "      <script>\n",
              "        const buttonEl =\n",
              "          document.querySelector('#df-c7d8beb4-1c66-424b-9819-be4d067668eb button.colab-df-convert');\n",
              "        buttonEl.style.display =\n",
              "          google.colab.kernel.accessAllowed ? 'block' : 'none';\n",
              "\n",
              "        async function convertToInteractive(key) {\n",
              "          const element = document.querySelector('#df-c7d8beb4-1c66-424b-9819-be4d067668eb');\n",
              "          const dataTable =\n",
              "            await google.colab.kernel.invokeFunction('convertToInteractive',\n",
              "                                                     [key], {});\n",
              "          if (!dataTable) return;\n",
              "\n",
              "          const docLinkHtml = 'Like what you see? Visit the ' +\n",
              "            '<a target=\"_blank\" href=https://colab.research.google.com/notebooks/data_table.ipynb>data table notebook</a>'\n",
              "            + ' to learn more about interactive tables.';\n",
              "          element.innerHTML = '';\n",
              "          dataTable['output_type'] = 'display_data';\n",
              "          await google.colab.output.renderOutput(dataTable, element);\n",
              "          const docLink = document.createElement('div');\n",
              "          docLink.innerHTML = docLinkHtml;\n",
              "          element.appendChild(docLink);\n",
              "        }\n",
              "      </script>\n",
              "    </div>\n",
              "  </div>\n",
              "  "
            ]
          },
          "metadata": {},
          "execution_count": 351
        }
      ]
    },
    {
      "cell_type": "markdown",
      "source": [
        "#Find Feature importance using mutual information"
      ],
      "metadata": {
        "id": "o-sO52bQl41v"
      }
    },
    {
      "cell_type": "code",
      "source": [
        "from sklearn.feature_selection import mutual_info_regression\n",
        "from sklearn.model_selection import train_test_split"
      ],
      "metadata": {
        "id": "mtEuietV9daz"
      },
      "execution_count": null,
      "outputs": []
    },
    {
      "cell_type": "markdown",
      "source": [
        "Drop unnecessary columns"
      ],
      "metadata": {
        "id": "YxX9YWxMQm0f"
      }
    },
    {
      "cell_type": "code",
      "source": [
        "dataset.drop(['ADDRESS','SALE DATE'],axis=1,inplace=True)"
      ],
      "metadata": {
        "id": "hHgXShK7Qkyk"
      },
      "execution_count": null,
      "outputs": []
    },
    {
      "cell_type": "code",
      "source": [
        "X = dataset.drop('SALE PRICE',axis=1)\n",
        "y = dataset['SALE PRICE']"
      ],
      "metadata": {
        "id": "CqLZt9B7mYHL"
      },
      "execution_count": null,
      "outputs": []
    },
    {
      "cell_type": "code",
      "source": [
        "X_train, X_test, y_train, y_test = train_test_split(X, y, test_size=0.3, random_state=101)"
      ],
      "metadata": {
        "id": "m9k_ABFdnFYd"
      },
      "execution_count": null,
      "outputs": []
    },
    {
      "cell_type": "code",
      "source": [
        "mutual_info = mutual_info_regression(X_train,y_train)\n",
        "mutual_info"
      ],
      "metadata": {
        "id": "wIgc_DGK9dJ0",
        "colab": {
          "base_uri": "https://localhost:8080/"
        },
        "outputId": "161d97a8-27fe-49d9-99e0-ec78db6ced92"
      },
      "execution_count": null,
      "outputs": [
        {
          "output_type": "execute_result",
          "data": {
            "text/plain": [
              "array([0.17550951, 0.34772483, 0.18409083, 0.0987163 , 0.25282683,\n",
              "       0.06513749, 0.21467965, 0.37375925, 0.12098857, 0.01136407,\n",
              "       0.12785525, 0.11801817, 0.22182721, 0.14051949, 0.06757363,\n",
              "       0.21151643, 0.0014049 , 0.01619744])"
            ]
          },
          "metadata": {},
          "execution_count": 356
        }
      ]
    },
    {
      "cell_type": "code",
      "source": [
        "mutual_info = pd.Series(mutual_info)\n",
        "mutual_info.index = X_train.columns\n",
        "mutual_info.sort_values(ascending=False)"
      ],
      "metadata": {
        "id": "U71R8CGNSGUw",
        "colab": {
          "base_uri": "https://localhost:8080/"
        },
        "outputId": "7f34c15c-57f2-46e0-e5af-f8d73577b39f"
      },
      "execution_count": null,
      "outputs": [
        {
          "output_type": "execute_result",
          "data": {
            "text/plain": [
              "ZIP CODE                          0.373759\n",
              "NEIGHBORHOOD                      0.347725\n",
              "BLOCK                             0.252827\n",
              "GROSS SQUARE FEET                 0.221827\n",
              "BUILDING CLASS AT PRESENT         0.214680\n",
              "BUILDING CLASS AT TIME OF SALE    0.211516\n",
              "BUILDING CLASS CATEGORY           0.184091\n",
              "BOROUGH                           0.175510\n",
              "YEAR BUILT                        0.140519\n",
              "TOTAL UNITS                       0.127855\n",
              "RESIDENTIAL UNITS                 0.120989\n",
              "LAND SQUARE FEET                  0.118018\n",
              "TAX CLASS AT PRESENT              0.098716\n",
              "TAX CLASS AT TIME OF SALE         0.067574\n",
              "LOT                               0.065137\n",
              "SALE MONTH                        0.016197\n",
              "COMMERCIAL UNITS                  0.011364\n",
              "SALE YEAR                         0.001405\n",
              "dtype: float64"
            ]
          },
          "metadata": {},
          "execution_count": 357
        }
      ]
    },
    {
      "cell_type": "markdown",
      "source": [
        "Let's drop the lowest important features"
      ],
      "metadata": {
        "id": "wPqrTqujTF-c"
      }
    },
    {
      "cell_type": "code",
      "source": [
        "df = dataset.drop(['SALE YEAR'],axis=1)"
      ],
      "metadata": {
        "id": "lwIB45v2cfrP"
      },
      "execution_count": null,
      "outputs": []
    },
    {
      "cell_type": "code",
      "source": [
        "df.info()"
      ],
      "metadata": {
        "colab": {
          "base_uri": "https://localhost:8080/"
        },
        "id": "Is-U7oAmU-gY",
        "outputId": "0c38956c-30dd-40c6-8e3f-f5e7230f5ced"
      },
      "execution_count": null,
      "outputs": [
        {
          "output_type": "stream",
          "name": "stdout",
          "text": [
            "<class 'pandas.core.frame.DataFrame'>\n",
            "Int64Index: 38168 entries, 175 to 84545\n",
            "Data columns (total 18 columns):\n",
            " #   Column                          Non-Null Count  Dtype  \n",
            "---  ------                          --------------  -----  \n",
            " 0   BOROUGH                         38168 non-null  object \n",
            " 1   NEIGHBORHOOD                    38168 non-null  float64\n",
            " 2   BUILDING CLASS CATEGORY         38168 non-null  float64\n",
            " 3   TAX CLASS AT PRESENT            38168 non-null  float64\n",
            " 4   BLOCK                           38168 non-null  int64  \n",
            " 5   LOT                             38168 non-null  int64  \n",
            " 6   BUILDING CLASS AT PRESENT       38168 non-null  float64\n",
            " 7   ZIP CODE                        38168 non-null  int64  \n",
            " 8   RESIDENTIAL UNITS               38168 non-null  int64  \n",
            " 9   COMMERCIAL UNITS                38168 non-null  int64  \n",
            " 10  TOTAL UNITS                     38168 non-null  int64  \n",
            " 11  LAND SQUARE FEET                38168 non-null  float64\n",
            " 12  GROSS SQUARE FEET               38168 non-null  float64\n",
            " 13  YEAR BUILT                      38168 non-null  int64  \n",
            " 14  TAX CLASS AT TIME OF SALE       38168 non-null  object \n",
            " 15  BUILDING CLASS AT TIME OF SALE  38168 non-null  float64\n",
            " 16  SALE PRICE                      38168 non-null  object \n",
            " 17  SALE MONTH                      38168 non-null  int64  \n",
            "dtypes: float64(7), int64(8), object(3)\n",
            "memory usage: 5.5+ MB\n"
          ]
        }
      ]
    },
    {
      "cell_type": "code",
      "source": [
        "df['BOROUGH'] = pd.to_numeric(df['BOROUGH'],errors = 'coerce')\n",
        "df['SALE PRICE'] = pd.to_numeric(df['SALE PRICE'],errors = 'coerce')\n",
        "df['TAX CLASS AT TIME OF SALE'] = pd.to_numeric(df['TAX CLASS AT TIME OF SALE'],errors = 'coerce')\n"
      ],
      "metadata": {
        "id": "UqHE0h0cVRuB"
      },
      "execution_count": null,
      "outputs": []
    },
    {
      "cell_type": "markdown",
      "source": [
        "#Machine Learning Model"
      ],
      "metadata": {
        "id": "DQEAVycwcSs4"
      }
    },
    {
      "cell_type": "markdown",
      "source": [
        "We will try 2 Regression Model:\n",
        "> Random Forest Regressor\n",
        "\n",
        "> XGBRegressor"
      ],
      "metadata": {
        "id": "m1YPSwyvZJIm"
      }
    },
    {
      "cell_type": "code",
      "source": [
        "from sklearn.ensemble import RandomForestRegressor\n",
        "from xgboost import XGBRegressor"
      ],
      "metadata": {
        "id": "QsSdDEP-ZpeM"
      },
      "execution_count": null,
      "outputs": []
    },
    {
      "cell_type": "code",
      "source": [
        "rfrModel = RandomForestRegressor()\n",
        "xgbrModel = XGBRegressor()"
      ],
      "metadata": {
        "id": "-yNEba8FZpRE"
      },
      "execution_count": null,
      "outputs": []
    },
    {
      "cell_type": "code",
      "source": [
        "X = df.drop('SALE PRICE',axis=1)\n",
        "y = df['SALE PRICE']"
      ],
      "metadata": {
        "id": "RI0AJnkga0BD"
      },
      "execution_count": null,
      "outputs": []
    },
    {
      "cell_type": "code",
      "source": [
        "X_train, X_test, y_train, y_test = train_test_split(X, y, test_size=0.3, random_state=101)"
      ],
      "metadata": {
        "id": "aNLg6f_KgqK0"
      },
      "execution_count": null,
      "outputs": []
    },
    {
      "cell_type": "code",
      "source": [
        "rfrModel.fit(X_train,y_train)\n",
        "xgbrModel.fit(X_train,y_train)"
      ],
      "metadata": {
        "id": "jocAP_u3az2E",
        "colab": {
          "base_uri": "https://localhost:8080/"
        },
        "outputId": "b9b3ada9-fc3a-42f5-f1aa-57e363d307c0"
      },
      "execution_count": null,
      "outputs": [
        {
          "output_type": "stream",
          "name": "stdout",
          "text": [
            "[11:04:40] WARNING: /workspace/src/objective/regression_obj.cu:152: reg:linear is now deprecated in favor of reg:squarederror.\n"
          ]
        },
        {
          "output_type": "execute_result",
          "data": {
            "text/plain": [
              "XGBRegressor()"
            ]
          },
          "metadata": {},
          "execution_count": 365
        }
      ]
    },
    {
      "cell_type": "code",
      "source": [
        "rfr_pred = rfrModel.predict(X_test)\n",
        "xgbr_pred = xgbrModel.predict(X_test)"
      ],
      "metadata": {
        "id": "zFPIsMt8fI1x"
      },
      "execution_count": null,
      "outputs": []
    },
    {
      "cell_type": "markdown",
      "source": [
        "###Evaluating the model"
      ],
      "metadata": {
        "id": "iFiMSVrodGFo"
      }
    },
    {
      "cell_type": "markdown",
      "source": [
        "We will evaluate this two model by\n",
        "\n",
        "> Mean Absolute Error(MAE)\n",
        "\n",
        "> Mean Square Error(MSE)\n",
        "\n",
        "> Root Mean Square Error(RMSE)\n",
        "\n",
        "> R Squared (R2)\n",
        "\n"
      ],
      "metadata": {
        "id": "PnvK8NNDeqWi"
      }
    },
    {
      "cell_type": "code",
      "source": [
        "from sklearn.metrics import mean_absolute_error,mean_squared_error,r2_score"
      ],
      "metadata": {
        "id": "ifQkIEruPN7q"
      },
      "execution_count": null,
      "outputs": []
    },
    {
      "cell_type": "code",
      "source": [
        "print('RandomForestRegressor')\n",
        "print('MAE:',mean_absolute_error(y_test,rfr_pred))\n",
        "print('MSE:',mean_squared_error(y_test,rfr_pred))\n",
        "print('RMSE:',np.sqrt(mean_absolute_error(y_test,rfr_pred)))\n",
        "print('R2:',r2_score(y_test,rfr_pred))"
      ],
      "metadata": {
        "id": "2p7d25hBazpF",
        "colab": {
          "base_uri": "https://localhost:8080/"
        },
        "outputId": "87ed8c58-a244-455d-e9e0-ac5cffd3a3d6"
      },
      "execution_count": null,
      "outputs": [
        {
          "output_type": "stream",
          "name": "stdout",
          "text": [
            "RandomForestRegressor\n",
            "MAE: 143443.62735519043\n",
            "MSE: 47386127903.93183\n",
            "RMSE: 378.73952441643905\n",
            "R2: 0.6211393116405368\n"
          ]
        }
      ]
    },
    {
      "cell_type": "code",
      "source": [
        "print('XGBRegressor')\n",
        "print('MAE:',mean_absolute_error(y_test,xgbr_pred))\n",
        "print('MSE:',mean_squared_error(y_test,xgbr_pred))\n",
        "print('RMSE:',np.sqrt(mean_absolute_error(y_test,xgbr_pred)))\n",
        "print('R2:',r2_score(y_test,xgbr_pred))"
      ],
      "metadata": {
        "id": "_hwE4tvffCl6",
        "colab": {
          "base_uri": "https://localhost:8080/"
        },
        "outputId": "6654c3c0-48a3-4675-9a23-699c59f6b917"
      },
      "execution_count": null,
      "outputs": [
        {
          "output_type": "stream",
          "name": "stdout",
          "text": [
            "XGBRegressor\n",
            "MAE: 158550.2706892411\n",
            "MSE: 55240710109.45994\n",
            "RMSE: 398.1837147463983\n",
            "R2: 0.5583405020987373\n"
          ]
        }
      ]
    },
    {
      "cell_type": "markdown",
      "source": [
        "As we can see the Random Forest Regressor model perform better than XGBoost Regressor model."
      ],
      "metadata": {
        "id": "4Pd13SyylbEi"
      }
    },
    {
      "cell_type": "markdown",
      "source": [
        "### Hyperparameter Optimizatio for Random Forest Regressor"
      ],
      "metadata": {
        "id": "_vgpTzCtlvtP"
      }
    },
    {
      "cell_type": "code",
      "source": [
        "from sklearn.model_selection import RandomizedSearchCV"
      ],
      "metadata": {
        "id": "GiVPjxyYuObi"
      },
      "execution_count": null,
      "outputs": []
    },
    {
      "cell_type": "code",
      "source": [
        "df"
      ],
      "metadata": {
        "id": "R36In_kfreWo",
        "colab": {
          "base_uri": "https://localhost:8080/",
          "height": 574
        },
        "outputId": "ae3b98a0-69e8-4c96-9076-861f79a19786"
      },
      "execution_count": null,
      "outputs": [
        {
          "output_type": "execute_result",
          "data": {
            "text/plain": [
              "       BOROUGH  NEIGHBORHOOD  BUILDING CLASS CATEGORY  TAX CLASS AT PRESENT  \\\n",
              "175          1           1.0                     14.0                   5.0   \n",
              "204          1          39.0                      0.0                   0.0   \n",
              "205          1          39.0                      0.0                   0.0   \n",
              "210          1          39.0                      1.0                   0.0   \n",
              "211          1          39.0                      1.0                   0.0   \n",
              "...        ...           ...                      ...                   ...   \n",
              "84540        5         251.0                      1.0                   0.0   \n",
              "84542        5         251.0                      1.0                   0.0   \n",
              "84543        5         251.0                      1.0                   0.0   \n",
              "84544        5         251.0                      1.0                   0.0   \n",
              "84545        5         251.0                      1.0                   0.0   \n",
              "\n",
              "       BLOCK  LOT  BUILDING CLASS AT PRESENT  ZIP CODE  RESIDENTIAL UNITS  \\\n",
              "175      394    5                      141.0     10009                  5   \n",
              "204      766   13                        8.0     10011                  1   \n",
              "205      766   13                        8.0     10011                  1   \n",
              "210      743   61                       11.0     10011                  2   \n",
              "211      766   18                        9.0     10011                  2   \n",
              "...      ...  ...                        ...       ...                ...   \n",
              "84540   7316   93                       10.0     10309                  2   \n",
              "84542   7339   41                       12.0     10309                  2   \n",
              "84543   7349   34                       12.0     10309                  2   \n",
              "84544   7349   78                       12.0     10309                  2   \n",
              "84545   7351   60                       10.0     10309                  2   \n",
              "\n",
              "       COMMERCIAL UNITS  TOTAL UNITS  LAND SQUARE FEET  GROSS SQUARE FEET  \\\n",
              "175                   1            6            1779.0             3713.0   \n",
              "204                   0            1            1360.0             2736.0   \n",
              "205                   0            1            1360.0             2736.0   \n",
              "210                   0            2            1526.0             3168.0   \n",
              "211                   0            2            2000.0             2520.0   \n",
              "...                 ...          ...               ...                ...   \n",
              "84540                 0            2            3325.0             1300.0   \n",
              "84542                 0            2            3020.0             1800.0   \n",
              "84543                 0            2            2400.0             2575.0   \n",
              "84544                 0            2            2498.0             2377.0   \n",
              "84545                 0            2            4000.0             1496.0   \n",
              "\n",
              "       YEAR BUILT  TAX CLASS AT TIME OF SALE  BUILDING CLASS AT TIME OF SALE  \\\n",
              "175          1910                          2                           141.0   \n",
              "204          1910                          1                             8.0   \n",
              "205          1910                          1                             8.0   \n",
              "210          1910                          1                            11.0   \n",
              "211          1901                          1                             9.0   \n",
              "...           ...                        ...                             ...   \n",
              "84540        1995                          1                            10.0   \n",
              "84542        1997                          1                            12.0   \n",
              "84543        1998                          1                            12.0   \n",
              "84544        1998                          1                            12.0   \n",
              "84545        1925                          1                            10.0   \n",
              "\n",
              "       SALE PRICE  SALE MONTH  \n",
              "175     1249784.8           4  \n",
              "204      708246.8           1  \n",
              "205      702840.7          10  \n",
              "210      799063.5           2  \n",
              "211      728782.2           3  \n",
              "...           ...         ...  \n",
              "84540    509000.0          10  \n",
              "84542    502823.9          12  \n",
              "84543    450000.0          11  \n",
              "84544    550000.0           4  \n",
              "84545    460000.0           7  \n",
              "\n",
              "[38168 rows x 18 columns]"
            ],
            "text/html": [
              "\n",
              "  <div id=\"df-86a010bb-a6ba-4228-982a-f59d4e130d2c\">\n",
              "    <div class=\"colab-df-container\">\n",
              "      <div>\n",
              "<style scoped>\n",
              "    .dataframe tbody tr th:only-of-type {\n",
              "        vertical-align: middle;\n",
              "    }\n",
              "\n",
              "    .dataframe tbody tr th {\n",
              "        vertical-align: top;\n",
              "    }\n",
              "\n",
              "    .dataframe thead th {\n",
              "        text-align: right;\n",
              "    }\n",
              "</style>\n",
              "<table border=\"1\" class=\"dataframe\">\n",
              "  <thead>\n",
              "    <tr style=\"text-align: right;\">\n",
              "      <th></th>\n",
              "      <th>BOROUGH</th>\n",
              "      <th>NEIGHBORHOOD</th>\n",
              "      <th>BUILDING CLASS CATEGORY</th>\n",
              "      <th>TAX CLASS AT PRESENT</th>\n",
              "      <th>BLOCK</th>\n",
              "      <th>LOT</th>\n",
              "      <th>BUILDING CLASS AT PRESENT</th>\n",
              "      <th>ZIP CODE</th>\n",
              "      <th>RESIDENTIAL UNITS</th>\n",
              "      <th>COMMERCIAL UNITS</th>\n",
              "      <th>TOTAL UNITS</th>\n",
              "      <th>LAND SQUARE FEET</th>\n",
              "      <th>GROSS SQUARE FEET</th>\n",
              "      <th>YEAR BUILT</th>\n",
              "      <th>TAX CLASS AT TIME OF SALE</th>\n",
              "      <th>BUILDING CLASS AT TIME OF SALE</th>\n",
              "      <th>SALE PRICE</th>\n",
              "      <th>SALE MONTH</th>\n",
              "    </tr>\n",
              "  </thead>\n",
              "  <tbody>\n",
              "    <tr>\n",
              "      <th>175</th>\n",
              "      <td>1</td>\n",
              "      <td>1.0</td>\n",
              "      <td>14.0</td>\n",
              "      <td>5.0</td>\n",
              "      <td>394</td>\n",
              "      <td>5</td>\n",
              "      <td>141.0</td>\n",
              "      <td>10009</td>\n",
              "      <td>5</td>\n",
              "      <td>1</td>\n",
              "      <td>6</td>\n",
              "      <td>1779.0</td>\n",
              "      <td>3713.0</td>\n",
              "      <td>1910</td>\n",
              "      <td>2</td>\n",
              "      <td>141.0</td>\n",
              "      <td>1249784.8</td>\n",
              "      <td>4</td>\n",
              "    </tr>\n",
              "    <tr>\n",
              "      <th>204</th>\n",
              "      <td>1</td>\n",
              "      <td>39.0</td>\n",
              "      <td>0.0</td>\n",
              "      <td>0.0</td>\n",
              "      <td>766</td>\n",
              "      <td>13</td>\n",
              "      <td>8.0</td>\n",
              "      <td>10011</td>\n",
              "      <td>1</td>\n",
              "      <td>0</td>\n",
              "      <td>1</td>\n",
              "      <td>1360.0</td>\n",
              "      <td>2736.0</td>\n",
              "      <td>1910</td>\n",
              "      <td>1</td>\n",
              "      <td>8.0</td>\n",
              "      <td>708246.8</td>\n",
              "      <td>1</td>\n",
              "    </tr>\n",
              "    <tr>\n",
              "      <th>205</th>\n",
              "      <td>1</td>\n",
              "      <td>39.0</td>\n",
              "      <td>0.0</td>\n",
              "      <td>0.0</td>\n",
              "      <td>766</td>\n",
              "      <td>13</td>\n",
              "      <td>8.0</td>\n",
              "      <td>10011</td>\n",
              "      <td>1</td>\n",
              "      <td>0</td>\n",
              "      <td>1</td>\n",
              "      <td>1360.0</td>\n",
              "      <td>2736.0</td>\n",
              "      <td>1910</td>\n",
              "      <td>1</td>\n",
              "      <td>8.0</td>\n",
              "      <td>702840.7</td>\n",
              "      <td>10</td>\n",
              "    </tr>\n",
              "    <tr>\n",
              "      <th>210</th>\n",
              "      <td>1</td>\n",
              "      <td>39.0</td>\n",
              "      <td>1.0</td>\n",
              "      <td>0.0</td>\n",
              "      <td>743</td>\n",
              "      <td>61</td>\n",
              "      <td>11.0</td>\n",
              "      <td>10011</td>\n",
              "      <td>2</td>\n",
              "      <td>0</td>\n",
              "      <td>2</td>\n",
              "      <td>1526.0</td>\n",
              "      <td>3168.0</td>\n",
              "      <td>1910</td>\n",
              "      <td>1</td>\n",
              "      <td>11.0</td>\n",
              "      <td>799063.5</td>\n",
              "      <td>2</td>\n",
              "    </tr>\n",
              "    <tr>\n",
              "      <th>211</th>\n",
              "      <td>1</td>\n",
              "      <td>39.0</td>\n",
              "      <td>1.0</td>\n",
              "      <td>0.0</td>\n",
              "      <td>766</td>\n",
              "      <td>18</td>\n",
              "      <td>9.0</td>\n",
              "      <td>10011</td>\n",
              "      <td>2</td>\n",
              "      <td>0</td>\n",
              "      <td>2</td>\n",
              "      <td>2000.0</td>\n",
              "      <td>2520.0</td>\n",
              "      <td>1901</td>\n",
              "      <td>1</td>\n",
              "      <td>9.0</td>\n",
              "      <td>728782.2</td>\n",
              "      <td>3</td>\n",
              "    </tr>\n",
              "    <tr>\n",
              "      <th>...</th>\n",
              "      <td>...</td>\n",
              "      <td>...</td>\n",
              "      <td>...</td>\n",
              "      <td>...</td>\n",
              "      <td>...</td>\n",
              "      <td>...</td>\n",
              "      <td>...</td>\n",
              "      <td>...</td>\n",
              "      <td>...</td>\n",
              "      <td>...</td>\n",
              "      <td>...</td>\n",
              "      <td>...</td>\n",
              "      <td>...</td>\n",
              "      <td>...</td>\n",
              "      <td>...</td>\n",
              "      <td>...</td>\n",
              "      <td>...</td>\n",
              "      <td>...</td>\n",
              "    </tr>\n",
              "    <tr>\n",
              "      <th>84540</th>\n",
              "      <td>5</td>\n",
              "      <td>251.0</td>\n",
              "      <td>1.0</td>\n",
              "      <td>0.0</td>\n",
              "      <td>7316</td>\n",
              "      <td>93</td>\n",
              "      <td>10.0</td>\n",
              "      <td>10309</td>\n",
              "      <td>2</td>\n",
              "      <td>0</td>\n",
              "      <td>2</td>\n",
              "      <td>3325.0</td>\n",
              "      <td>1300.0</td>\n",
              "      <td>1995</td>\n",
              "      <td>1</td>\n",
              "      <td>10.0</td>\n",
              "      <td>509000.0</td>\n",
              "      <td>10</td>\n",
              "    </tr>\n",
              "    <tr>\n",
              "      <th>84542</th>\n",
              "      <td>5</td>\n",
              "      <td>251.0</td>\n",
              "      <td>1.0</td>\n",
              "      <td>0.0</td>\n",
              "      <td>7339</td>\n",
              "      <td>41</td>\n",
              "      <td>12.0</td>\n",
              "      <td>10309</td>\n",
              "      <td>2</td>\n",
              "      <td>0</td>\n",
              "      <td>2</td>\n",
              "      <td>3020.0</td>\n",
              "      <td>1800.0</td>\n",
              "      <td>1997</td>\n",
              "      <td>1</td>\n",
              "      <td>12.0</td>\n",
              "      <td>502823.9</td>\n",
              "      <td>12</td>\n",
              "    </tr>\n",
              "    <tr>\n",
              "      <th>84543</th>\n",
              "      <td>5</td>\n",
              "      <td>251.0</td>\n",
              "      <td>1.0</td>\n",
              "      <td>0.0</td>\n",
              "      <td>7349</td>\n",
              "      <td>34</td>\n",
              "      <td>12.0</td>\n",
              "      <td>10309</td>\n",
              "      <td>2</td>\n",
              "      <td>0</td>\n",
              "      <td>2</td>\n",
              "      <td>2400.0</td>\n",
              "      <td>2575.0</td>\n",
              "      <td>1998</td>\n",
              "      <td>1</td>\n",
              "      <td>12.0</td>\n",
              "      <td>450000.0</td>\n",
              "      <td>11</td>\n",
              "    </tr>\n",
              "    <tr>\n",
              "      <th>84544</th>\n",
              "      <td>5</td>\n",
              "      <td>251.0</td>\n",
              "      <td>1.0</td>\n",
              "      <td>0.0</td>\n",
              "      <td>7349</td>\n",
              "      <td>78</td>\n",
              "      <td>12.0</td>\n",
              "      <td>10309</td>\n",
              "      <td>2</td>\n",
              "      <td>0</td>\n",
              "      <td>2</td>\n",
              "      <td>2498.0</td>\n",
              "      <td>2377.0</td>\n",
              "      <td>1998</td>\n",
              "      <td>1</td>\n",
              "      <td>12.0</td>\n",
              "      <td>550000.0</td>\n",
              "      <td>4</td>\n",
              "    </tr>\n",
              "    <tr>\n",
              "      <th>84545</th>\n",
              "      <td>5</td>\n",
              "      <td>251.0</td>\n",
              "      <td>1.0</td>\n",
              "      <td>0.0</td>\n",
              "      <td>7351</td>\n",
              "      <td>60</td>\n",
              "      <td>10.0</td>\n",
              "      <td>10309</td>\n",
              "      <td>2</td>\n",
              "      <td>0</td>\n",
              "      <td>2</td>\n",
              "      <td>4000.0</td>\n",
              "      <td>1496.0</td>\n",
              "      <td>1925</td>\n",
              "      <td>1</td>\n",
              "      <td>10.0</td>\n",
              "      <td>460000.0</td>\n",
              "      <td>7</td>\n",
              "    </tr>\n",
              "  </tbody>\n",
              "</table>\n",
              "<p>38168 rows × 18 columns</p>\n",
              "</div>\n",
              "      <button class=\"colab-df-convert\" onclick=\"convertToInteractive('df-86a010bb-a6ba-4228-982a-f59d4e130d2c')\"\n",
              "              title=\"Convert this dataframe to an interactive table.\"\n",
              "              style=\"display:none;\">\n",
              "        \n",
              "  <svg xmlns=\"http://www.w3.org/2000/svg\" height=\"24px\"viewBox=\"0 0 24 24\"\n",
              "       width=\"24px\">\n",
              "    <path d=\"M0 0h24v24H0V0z\" fill=\"none\"/>\n",
              "    <path d=\"M18.56 5.44l.94 2.06.94-2.06 2.06-.94-2.06-.94-.94-2.06-.94 2.06-2.06.94zm-11 1L8.5 8.5l.94-2.06 2.06-.94-2.06-.94L8.5 2.5l-.94 2.06-2.06.94zm10 10l.94 2.06.94-2.06 2.06-.94-2.06-.94-.94-2.06-.94 2.06-2.06.94z\"/><path d=\"M17.41 7.96l-1.37-1.37c-.4-.4-.92-.59-1.43-.59-.52 0-1.04.2-1.43.59L10.3 9.45l-7.72 7.72c-.78.78-.78 2.05 0 2.83L4 21.41c.39.39.9.59 1.41.59.51 0 1.02-.2 1.41-.59l7.78-7.78 2.81-2.81c.8-.78.8-2.07 0-2.86zM5.41 20L4 18.59l7.72-7.72 1.47 1.35L5.41 20z\"/>\n",
              "  </svg>\n",
              "      </button>\n",
              "      \n",
              "  <style>\n",
              "    .colab-df-container {\n",
              "      display:flex;\n",
              "      flex-wrap:wrap;\n",
              "      gap: 12px;\n",
              "    }\n",
              "\n",
              "    .colab-df-convert {\n",
              "      background-color: #E8F0FE;\n",
              "      border: none;\n",
              "      border-radius: 50%;\n",
              "      cursor: pointer;\n",
              "      display: none;\n",
              "      fill: #1967D2;\n",
              "      height: 32px;\n",
              "      padding: 0 0 0 0;\n",
              "      width: 32px;\n",
              "    }\n",
              "\n",
              "    .colab-df-convert:hover {\n",
              "      background-color: #E2EBFA;\n",
              "      box-shadow: 0px 1px 2px rgba(60, 64, 67, 0.3), 0px 1px 3px 1px rgba(60, 64, 67, 0.15);\n",
              "      fill: #174EA6;\n",
              "    }\n",
              "\n",
              "    [theme=dark] .colab-df-convert {\n",
              "      background-color: #3B4455;\n",
              "      fill: #D2E3FC;\n",
              "    }\n",
              "\n",
              "    [theme=dark] .colab-df-convert:hover {\n",
              "      background-color: #434B5C;\n",
              "      box-shadow: 0px 1px 3px 1px rgba(0, 0, 0, 0.15);\n",
              "      filter: drop-shadow(0px 1px 2px rgba(0, 0, 0, 0.3));\n",
              "      fill: #FFFFFF;\n",
              "    }\n",
              "  </style>\n",
              "\n",
              "      <script>\n",
              "        const buttonEl =\n",
              "          document.querySelector('#df-86a010bb-a6ba-4228-982a-f59d4e130d2c button.colab-df-convert');\n",
              "        buttonEl.style.display =\n",
              "          google.colab.kernel.accessAllowed ? 'block' : 'none';\n",
              "\n",
              "        async function convertToInteractive(key) {\n",
              "          const element = document.querySelector('#df-86a010bb-a6ba-4228-982a-f59d4e130d2c');\n",
              "          const dataTable =\n",
              "            await google.colab.kernel.invokeFunction('convertToInteractive',\n",
              "                                                     [key], {});\n",
              "          if (!dataTable) return;\n",
              "\n",
              "          const docLinkHtml = 'Like what you see? Visit the ' +\n",
              "            '<a target=\"_blank\" href=https://colab.research.google.com/notebooks/data_table.ipynb>data table notebook</a>'\n",
              "            + ' to learn more about interactive tables.';\n",
              "          element.innerHTML = '';\n",
              "          dataTable['output_type'] = 'display_data';\n",
              "          await google.colab.output.renderOutput(dataTable, element);\n",
              "          const docLink = document.createElement('div');\n",
              "          docLink.innerHTML = docLinkHtml;\n",
              "          element.appendChild(docLink);\n",
              "        }\n",
              "      </script>\n",
              "    </div>\n",
              "  </div>\n",
              "  "
            ]
          },
          "metadata": {},
          "execution_count": 371
        }
      ]
    },
    {
      "cell_type": "code",
      "source": [
        ""
      ],
      "metadata": {
        "id": "GIKFgS4hP4Oy"
      },
      "execution_count": null,
      "outputs": []
    },
    {
      "cell_type": "code",
      "source": [
        ""
      ],
      "metadata": {
        "id": "10rXU51_PE0G"
      },
      "execution_count": null,
      "outputs": []
    },
    {
      "cell_type": "code",
      "source": [
        ""
      ],
      "metadata": {
        "id": "Sc3u0Xc4PE3l"
      },
      "execution_count": null,
      "outputs": []
    },
    {
      "cell_type": "code",
      "source": [
        ""
      ],
      "metadata": {
        "id": "0mwn2yp7iFgn"
      },
      "execution_count": null,
      "outputs": []
    },
    {
      "cell_type": "code",
      "source": [
        ""
      ],
      "metadata": {
        "id": "PZySYVxNsU6Q"
      },
      "execution_count": null,
      "outputs": []
    },
    {
      "cell_type": "code",
      "source": [
        ""
      ],
      "metadata": {
        "id": "RXeuPai5zk9h"
      },
      "execution_count": null,
      "outputs": []
    },
    {
      "cell_type": "code",
      "source": [
        ""
      ],
      "metadata": {
        "id": "dP2FFFwNja1P"
      },
      "execution_count": null,
      "outputs": []
    },
    {
      "cell_type": "code",
      "source": [
        ""
      ],
      "metadata": {
        "id": "ON-6fxW0Qf4t"
      },
      "execution_count": null,
      "outputs": []
    },
    {
      "cell_type": "code",
      "source": [
        ""
      ],
      "metadata": {
        "id": "YSigOu-nSO6W"
      },
      "execution_count": null,
      "outputs": []
    }
  ]
}